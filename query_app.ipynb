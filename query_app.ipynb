{
 "cells": [
  {
   "cell_type": "code",
   "execution_count": null,
   "metadata": {},
   "outputs": [],
   "source": []
  },
  {
   "cell_type": "code",
   "execution_count": null,
   "metadata": {},
   "outputs": [],
   "source": [
    "import requests\n",
    "\n",
    "payload = {\"company\": \"google\"}\n",
    "resp = requests.post(\"http://localhost:8080/query\", json=payload)\n",
    "print(resp.json())\n"
   ]
  },
  {
   "cell_type": "code",
   "execution_count": 8,
   "metadata": {},
   "outputs": [
    {
     "name": "stdout",
     "output_type": "stream",
     "text": [
      "200 {'answer': \"**Executive Summary**\\nA deep dive was completed for GOOGLE to review its relationships and identify foreign linkages. Using several data sources and open-source intelligence, a relationship summary has been compiled for GOOGLE’s key officers, shareholders, addresses, controversies and financial indicators, with the following key takeaways.\\n\\nSorry, I couldn’t fetch data for “Google”: \\n\\nSorry, I couldn’t fetch data for “Google”: \\n\\n**Key Shareholders**\\n\\nAs of the quarter ending 2024-12-31, the company's key shareholders are represented by 4,589 reporting institutions, collectively holding 3.2 billion shares, equivalent to a market value of $613.8 billion. These shareholders account for 26.16% of the company's total ownership. Notably, 573 new positions were established, while 2,192 existing positions were increased, indicating a significant level of confidence in the company's prospects. Conversely, 1,711 positions were reduced, and 173 were closed, suggesting some degree of profit-taking or rebalancing. The put/call ratio of 0.98 implies a slightly bearish sentiment among institutional investors, as the number of put options (betting on price decline) slightly exceeds call options (betting on price increase). Quarter-on-quarter, the number of new positions and positions increased surpassed the reductions and closures by more than 5%, underscoring the overall bullish stance of these key shareholders.\"}\n"
     ]
    }
   ],
   "source": [
    "import requests, certifi\n",
    "\n",
    "URL = \"https://application-e0.1x6htwszi96f.us-south.codeengine.appdomain.cloud/query\"\n",
    "payload = {\"company\": \"Google\"}\n",
    "\n",
    "# Use certifi's latest CA bundle and close the socket after the request\n",
    "headers = {\n",
    "    \"Content-Type\": \"application/json\",\n",
    "    \"Connection\": \"close\"           # <<— crucial for some IBM CE front-ends\n",
    "}\n",
    "\n",
    "resp = requests.post(\n",
    "    URL,\n",
    "    json=payload,\n",
    "    headers=headers,\n",
    "    timeout=30,\n",
    "    verify=certifi.where()           \n",
    ")\n",
    "resp.raise_for_status()\n",
    "print(resp.status_code, resp.json())\n"
   ]
  },
  {
   "cell_type": "code",
   "execution_count": 19,
   "metadata": {},
   "outputs": [
    {
     "name": "stdout",
     "output_type": "stream",
     "text": [
      "200 {'answer': '**Executive Summary**\\nA deep dive was completed for GOOGLE to review its relationships and identify foreign linkages. Using several data sources and open-source intelligence, a relationship summary has been compiled for GOOGLE’s key officers, shareholders, addresses, controversies and financial indicators, with the following key takeaways.\\n\\nSorry, I couldn’t fetch data for “Google”.\\n\\n**Error:** \\n\\n```traceback\\nTraceback (most recent call last):\\n  File \"/app/.venv/lib/python3.11/site-packages/httpx/_transports/default.py\", line 101, in map_httpcore_exceptions\\n    yield\\n  File \"/app/.venv/lib/python3.11/site-packages/httpx/_transports/default.py\", line 394, in handle_async_request\\n    resp = await self._pool.handle_async_request(req)\\n           ^^^^^^^^^^^^^^^^^^^^^^^^^^^^^^^^^^^^^^^^^^\\n  File \"/app/.venv/lib/python3.11/site-packages/httpcore/_async/connection_pool.py\", line 256, in handle_async_request\\n    raise exc from None\\n  File \"/app/.venv/lib/python3.11/site-packages/httpcore/_async/connection_pool.py\", line 236, in handle_async_request\\n    response = await connection.handle_async_request(\\n               ^^^^^^^^^^^^^^^^^^^^^^^^^^^^^^^^^^^^^^\\n  File \"/app/.venv/lib/python3.11/site-packages/httpcore/_async/connection.py\", line 103, in handle_async_request\\n    return await self._connection.handle_async_request(request)\\n           ^^^^^^^^^^^^^^^^^^^^^^^^^^^^^^^^^^^^^^^^^^^^^^^^^^^^\\n  File \"/app/.venv/lib/python3.11/site-packages/httpcore/_async/http11.py\", line 136, in handle_async_request\\n    raise exc\\n  File \"/app/.venv/lib/python3.11/site-packages/httpcore/_async/http11.py\", line 106, in handle_async_request\\n    ) = await self._receive_response_headers(**kwargs)\\n        ^^^^^^^^^^^^^^^^^^^^^^^^^^^^^^^^^^^^^^^^^^^^^^\\n  File \"/app/.venv/lib/python3.11/site-packages/httpcore/_async/http11.py\", line 177, in _receive_response_headers\\n    event = await self._receive_event(timeout=timeout)\\n            ^^^^^^^^^^^^^^^^^^^^^^^^^^^^^^^^^^^^^^^^^^\\n  File \"/app/.venv/lib/python3.11/site-packages/httpcore/_async/http11.py\", line 217, in _receive_event\\n    data = await self._network_stream.read(\\n           ^^^^^^^^^^^^^^^^^^^^^^^^^^^^^^^^\\n  File \"/app/.venv/lib/python3.11/site-packages/httpcore/_backends/anyio.py\", line 32, in read\\n    with map_exceptions(exc_map):\\n  File \"/usr/local/lib/python3.11/contextlib.py\", line 158, in __exit__\\n    self.gen.throw(typ, value, traceback)\\n  File \"/app/.venv/lib/python3.11/site-packages/httpcore/_exceptions.py\", line 14, in map_exceptions\\n    raise to_exc(exc) from exc\\nhttpcore.ReadTimeout\\n\\nThe above exception was the direct cause of the following exception:\\n\\nTraceback (most recent call last):\\n  File \"/app/src/beeai_agents/agents/addresses_agent.py\", line 40, in key_addresses\\n    data = await fetch_company_data_from_pds(company_name)\\n           ^^^^^^^^^^^^^^^^^^^^^^^^^^^^^^^^^^^^^^^^^^^^^^^\\n  File \"/app/src/beeai_agents/utils/utils.py\", line 77, in fetch_company_data_from_pds\\n    resp = await client.post(url, headers=headers)\\n           ^^^^^^^^^^^^^^^^^^^^^^^^^^^^^^^^^^^^^^^\\n  File \"/app/.venv/lib/python3.11/site-packages/httpx/_client.py\", line 1859, in post\\n    return await self.request(\\n           ^^^^^^^^^^^^^^^^^^^\\n  File \"/app/.venv/lib/python3.11/site-packages/httpx/_client.py\", line 1540, in request\\n    return await self.send(request, auth=auth, follow_redirects=follow_redirects)\\n           ^^^^^^^^^^^^^^^^^^^^^^^^^^^^^^^^^^^^^^^^^^^^^^^^^^^^^^^^^^^^^^^^^^^^^^\\n  File \"/app/.venv/lib/python3.11/site-packages/httpx/_client.py\", line 1629, in send\\n    response = await self._send_handling_auth(\\n               ^^^^^^^^^^^^^^^^^^^^^^^^^^^^^^^\\n  File \"/app/.venv/lib/python3.11/site-packages/httpx/_client.py\", line 1657, in _send_handling_auth\\n    response = await self._send_handling_redirects(\\n               ^^^^^^^^^^^^^^^^^^^^^^^^^^^^^^^^^^^^\\n  File \"/app/.venv/lib/python3.11/site-packages/httpx/_client.py\", line 1694, in _send_handling_redirects\\n    response = await self._send_single_request(request)\\n               ^^^^^^^^^^^^^^^^^^^^^^^^^^^^^^^^^^^^^^^^\\n  File \"/app/.venv/lib/python3.11/site-packages/httpx/_client.py\", line 1730, in _send_single_request\\n    response = await transport.handle_async_request(request)\\n               ^^^^^^^^^^^^^^^^^^^^^^^^^^^^^^^^^^^^^^^^^^^^^\\n  File \"/app/.venv/lib/python3.11/site-packages/httpx/_transports/default.py\", line 393, in handle_async_request\\n    with map_httpcore_exceptions():\\n  File \"/usr/local/lib/python3.11/contextlib.py\", line 158, in __exit__\\n    self.gen.throw(typ, value, traceback)\\n  File \"/app/.venv/lib/python3.11/site-packages/httpx/_transports/default.py\", line 118, in map_httpcore_exceptions\\n    raise mapped_exc(message) from exc\\nhttpx.ReadTimeout\\n\\n```\\n\\nSorry, I couldn’t fetch data for “Google”.\\n\\n**Error:** \\n\\n```traceback\\nTraceback (most recent call last):\\n  File \"/app/.venv/lib/python3.11/site-packages/httpx/_transports/default.py\", line 101, in map_httpcore_exceptions\\n    yield\\n  File \"/app/.venv/lib/python3.11/site-packages/httpx/_transports/default.py\", line 394, in handle_async_request\\n    resp = await self._pool.handle_async_request(req)\\n           ^^^^^^^^^^^^^^^^^^^^^^^^^^^^^^^^^^^^^^^^^^\\n  File \"/app/.venv/lib/python3.11/site-packages/httpcore/_async/connection_pool.py\", line 256, in handle_async_request\\n    raise exc from None\\n  File \"/app/.venv/lib/python3.11/site-packages/httpcore/_async/connection_pool.py\", line 236, in handle_async_request\\n    response = await connection.handle_async_request(\\n               ^^^^^^^^^^^^^^^^^^^^^^^^^^^^^^^^^^^^^^\\n  File \"/app/.venv/lib/python3.11/site-packages/httpcore/_async/connection.py\", line 103, in handle_async_request\\n    return await self._connection.handle_async_request(request)\\n           ^^^^^^^^^^^^^^^^^^^^^^^^^^^^^^^^^^^^^^^^^^^^^^^^^^^^\\n  File \"/app/.venv/lib/python3.11/site-packages/httpcore/_async/http11.py\", line 136, in handle_async_request\\n    raise exc\\n  File \"/app/.venv/lib/python3.11/site-packages/httpcore/_async/http11.py\", line 106, in handle_async_request\\n    ) = await self._receive_response_headers(**kwargs)\\n        ^^^^^^^^^^^^^^^^^^^^^^^^^^^^^^^^^^^^^^^^^^^^^^\\n  File \"/app/.venv/lib/python3.11/site-packages/httpcore/_async/http11.py\", line 177, in _receive_response_headers\\n    event = await self._receive_event(timeout=timeout)\\n            ^^^^^^^^^^^^^^^^^^^^^^^^^^^^^^^^^^^^^^^^^^\\n  File \"/app/.venv/lib/python3.11/site-packages/httpcore/_async/http11.py\", line 217, in _receive_event\\n    data = await self._network_stream.read(\\n           ^^^^^^^^^^^^^^^^^^^^^^^^^^^^^^^^\\n  File \"/app/.venv/lib/python3.11/site-packages/httpcore/_backends/anyio.py\", line 32, in read\\n    with map_exceptions(exc_map):\\n  File \"/usr/local/lib/python3.11/contextlib.py\", line 158, in __exit__\\n    self.gen.throw(typ, value, traceback)\\n  File \"/app/.venv/lib/python3.11/site-packages/httpcore/_exceptions.py\", line 14, in map_exceptions\\n    raise to_exc(exc) from exc\\nhttpcore.ReadError\\n\\nThe above exception was the direct cause of the following exception:\\n\\nTraceback (most recent call last):\\n  File \"/app/src/beeai_agents/agents/key_officers_agent.py\", line 26, in key_officers\\n    data = await fetch_company_data_from_pds(company_name)\\n           ^^^^^^^^^^^^^^^^^^^^^^^^^^^^^^^^^^^^^^^^^^^^^^^\\n  File \"/app/src/beeai_agents/utils/utils.py\", line 77, in fetch_company_data_from_pds\\n    resp = await client.post(url, headers=headers)\\n           ^^^^^^^^^^^^^^^^^^^^^^^^^^^^^^^^^^^^^^^\\n  File \"/app/.venv/lib/python3.11/site-packages/httpx/_client.py\", line 1859, in post\\n    return await self.request(\\n           ^^^^^^^^^^^^^^^^^^^\\n  File \"/app/.venv/lib/python3.11/site-packages/httpx/_client.py\", line 1540, in request\\n    return await self.send(request, auth=auth, follow_redirects=follow_redirects)\\n           ^^^^^^^^^^^^^^^^^^^^^^^^^^^^^^^^^^^^^^^^^^^^^^^^^^^^^^^^^^^^^^^^^^^^^^\\n  File \"/app/.venv/lib/python3.11/site-packages/httpx/_client.py\", line 1629, in send\\n    response = await self._send_handling_auth(\\n               ^^^^^^^^^^^^^^^^^^^^^^^^^^^^^^^\\n  File \"/app/.venv/lib/python3.11/site-packages/httpx/_client.py\", line 1657, in _send_handling_auth\\n    response = await self._send_handling_redirects(\\n               ^^^^^^^^^^^^^^^^^^^^^^^^^^^^^^^^^^^^\\n  File \"/app/.venv/lib/python3.11/site-packages/httpx/_client.py\", line 1694, in _send_handling_redirects\\n    response = await self._send_single_request(request)\\n               ^^^^^^^^^^^^^^^^^^^^^^^^^^^^^^^^^^^^^^^^\\n  File \"/app/.venv/lib/python3.11/site-packages/httpx/_client.py\", line 1730, in _send_single_request\\n    response = await transport.handle_async_request(request)\\n               ^^^^^^^^^^^^^^^^^^^^^^^^^^^^^^^^^^^^^^^^^^^^^\\n  File \"/app/.venv/lib/python3.11/site-packages/httpx/_transports/default.py\", line 393, in handle_async_request\\n    with map_httpcore_exceptions():\\n  File \"/usr/local/lib/python3.11/contextlib.py\", line 158, in __exit__\\n    self.gen.throw(typ, value, traceback)\\n  File \"/app/.venv/lib/python3.11/site-packages/httpx/_transports/default.py\", line 118, in map_httpcore_exceptions\\n    raise mapped_exc(message) from exc\\nhttpx.ReadError\\n\\n```\\n\\n**Key Shareholders**\\n\\nAs of the quarter ending 2024-12-31, the company\\'s key shareholders are represented by 4,589 reporting institutions, collectively holding 3.2 billion shares, equivalent to a market value of $613.8 billion. These shareholders account for 26.16% of the company\\'s total ownership. Notably, 573 new positions were established, while 2,192 existing positions were increased, indicating a significant level of confidence in the company\\'s prospects. Conversely, 1,711 positions were reduced, and 173 were closed, suggesting some degree of profit-taking or rebalancing. The put/call ratio of 0.98 implies a slightly bearish sentiment among institutional investors, as the number of put options (betting on price decline) slightly exceeds call options (betting on price increase). Quarter-on-quarter, the number of new positions and positions increased surpassed the reductions and closures by more than 5%, underscoring the overall bullish stance of these key shareholders.'}\n"
     ]
    }
   ],
   "source": [
    "\n",
    "\n",
    "import requests, certifi\n",
    "\n",
    "URL = \"https://osint-app.1x6htwszi96f.us-south.codeengine.appdomain.cloud/query\"\n",
    "payload = {\"company\": \"Google\"}\n",
    "\n",
    "# Use certifi's latest CA bundle and close the socket after the request\n",
    "headers = {\n",
    "    \"Content-Type\": \"application/json\",\n",
    "    \"Connection\": \"close\"           # <<— crucial for some IBM CE front-ends\n",
    "}\n",
    "\n",
    "resp = requests.post(\n",
    "    URL,\n",
    "    json=payload,\n",
    "    headers=headers,\n",
    "    timeout=30,\n",
    "    verify=certifi.where()           \n",
    ")\n",
    "resp.raise_for_status()\n",
    "print(resp.status_code, resp.json())\n"
   ]
  },
  {
   "cell_type": "code",
   "execution_count": 1,
   "metadata": {},
   "outputs": [
    {
     "ename": "ReadTimeout",
     "evalue": "HTTPSConnectionPool(host='beeai-app.1x6htwszi96f.us-south.codeengine.appdomain.cloud', port=443): Read timed out. (read timeout=30)",
     "output_type": "error",
     "traceback": [
      "\u001b[0;31m---------------------------------------------------------------------------\u001b[0m",
      "\u001b[0;31mTimeoutError\u001b[0m                              Traceback (most recent call last)",
      "File \u001b[0;32m/opt/anaconda3/envs/env3.11/lib/python3.11/site-packages/urllib3/connectionpool.py:534\u001b[0m, in \u001b[0;36mHTTPConnectionPool._make_request\u001b[0;34m(self, conn, method, url, body, headers, retries, timeout, chunked, response_conn, preload_content, decode_content, enforce_content_length)\u001b[0m\n\u001b[1;32m    533\u001b[0m \u001b[38;5;28;01mtry\u001b[39;00m:\n\u001b[0;32m--> 534\u001b[0m     response \u001b[38;5;241m=\u001b[39m conn\u001b[38;5;241m.\u001b[39mgetresponse()\n\u001b[1;32m    535\u001b[0m \u001b[38;5;28;01mexcept\u001b[39;00m (BaseSSLError, \u001b[38;5;167;01mOSError\u001b[39;00m) \u001b[38;5;28;01mas\u001b[39;00m e:\n",
      "File \u001b[0;32m/opt/anaconda3/envs/env3.11/lib/python3.11/site-packages/urllib3/connection.py:516\u001b[0m, in \u001b[0;36mHTTPConnection.getresponse\u001b[0;34m(self)\u001b[0m\n\u001b[1;32m    515\u001b[0m \u001b[38;5;66;03m# Get the response from http.client.HTTPConnection\u001b[39;00m\n\u001b[0;32m--> 516\u001b[0m httplib_response \u001b[38;5;241m=\u001b[39m \u001b[38;5;28msuper\u001b[39m()\u001b[38;5;241m.\u001b[39mgetresponse()\n\u001b[1;32m    518\u001b[0m \u001b[38;5;28;01mtry\u001b[39;00m:\n",
      "File \u001b[0;32m/opt/anaconda3/envs/env3.11/lib/python3.11/http/client.py:1395\u001b[0m, in \u001b[0;36mHTTPConnection.getresponse\u001b[0;34m(self)\u001b[0m\n\u001b[1;32m   1394\u001b[0m \u001b[38;5;28;01mtry\u001b[39;00m:\n\u001b[0;32m-> 1395\u001b[0m     response\u001b[38;5;241m.\u001b[39mbegin()\n\u001b[1;32m   1396\u001b[0m \u001b[38;5;28;01mexcept\u001b[39;00m \u001b[38;5;167;01mConnectionError\u001b[39;00m:\n",
      "File \u001b[0;32m/opt/anaconda3/envs/env3.11/lib/python3.11/http/client.py:325\u001b[0m, in \u001b[0;36mHTTPResponse.begin\u001b[0;34m(self)\u001b[0m\n\u001b[1;32m    324\u001b[0m \u001b[38;5;28;01mwhile\u001b[39;00m \u001b[38;5;28;01mTrue\u001b[39;00m:\n\u001b[0;32m--> 325\u001b[0m     version, status, reason \u001b[38;5;241m=\u001b[39m \u001b[38;5;28mself\u001b[39m\u001b[38;5;241m.\u001b[39m_read_status()\n\u001b[1;32m    326\u001b[0m     \u001b[38;5;28;01mif\u001b[39;00m status \u001b[38;5;241m!=\u001b[39m CONTINUE:\n",
      "File \u001b[0;32m/opt/anaconda3/envs/env3.11/lib/python3.11/http/client.py:286\u001b[0m, in \u001b[0;36mHTTPResponse._read_status\u001b[0;34m(self)\u001b[0m\n\u001b[1;32m    285\u001b[0m \u001b[38;5;28;01mdef\u001b[39;00m\u001b[38;5;250m \u001b[39m\u001b[38;5;21m_read_status\u001b[39m(\u001b[38;5;28mself\u001b[39m):\n\u001b[0;32m--> 286\u001b[0m     line \u001b[38;5;241m=\u001b[39m \u001b[38;5;28mstr\u001b[39m(\u001b[38;5;28mself\u001b[39m\u001b[38;5;241m.\u001b[39mfp\u001b[38;5;241m.\u001b[39mreadline(_MAXLINE \u001b[38;5;241m+\u001b[39m \u001b[38;5;241m1\u001b[39m), \u001b[38;5;124m\"\u001b[39m\u001b[38;5;124miso-8859-1\u001b[39m\u001b[38;5;124m\"\u001b[39m)\n\u001b[1;32m    287\u001b[0m     \u001b[38;5;28;01mif\u001b[39;00m \u001b[38;5;28mlen\u001b[39m(line) \u001b[38;5;241m>\u001b[39m _MAXLINE:\n",
      "File \u001b[0;32m/opt/anaconda3/envs/env3.11/lib/python3.11/socket.py:706\u001b[0m, in \u001b[0;36mSocketIO.readinto\u001b[0;34m(self, b)\u001b[0m\n\u001b[1;32m    705\u001b[0m \u001b[38;5;28;01mtry\u001b[39;00m:\n\u001b[0;32m--> 706\u001b[0m     \u001b[38;5;28;01mreturn\u001b[39;00m \u001b[38;5;28mself\u001b[39m\u001b[38;5;241m.\u001b[39m_sock\u001b[38;5;241m.\u001b[39mrecv_into(b)\n\u001b[1;32m    707\u001b[0m \u001b[38;5;28;01mexcept\u001b[39;00m timeout:\n",
      "File \u001b[0;32m/opt/anaconda3/envs/env3.11/lib/python3.11/ssl.py:1314\u001b[0m, in \u001b[0;36mSSLSocket.recv_into\u001b[0;34m(self, buffer, nbytes, flags)\u001b[0m\n\u001b[1;32m   1311\u001b[0m         \u001b[38;5;28;01mraise\u001b[39;00m \u001b[38;5;167;01mValueError\u001b[39;00m(\n\u001b[1;32m   1312\u001b[0m           \u001b[38;5;124m\"\u001b[39m\u001b[38;5;124mnon-zero flags not allowed in calls to recv_into() on \u001b[39m\u001b[38;5;132;01m%s\u001b[39;00m\u001b[38;5;124m\"\u001b[39m \u001b[38;5;241m%\u001b[39m\n\u001b[1;32m   1313\u001b[0m           \u001b[38;5;28mself\u001b[39m\u001b[38;5;241m.\u001b[39m\u001b[38;5;18m__class__\u001b[39m)\n\u001b[0;32m-> 1314\u001b[0m     \u001b[38;5;28;01mreturn\u001b[39;00m \u001b[38;5;28mself\u001b[39m\u001b[38;5;241m.\u001b[39mread(nbytes, buffer)\n\u001b[1;32m   1315\u001b[0m \u001b[38;5;28;01melse\u001b[39;00m:\n",
      "File \u001b[0;32m/opt/anaconda3/envs/env3.11/lib/python3.11/ssl.py:1166\u001b[0m, in \u001b[0;36mSSLSocket.read\u001b[0;34m(self, len, buffer)\u001b[0m\n\u001b[1;32m   1165\u001b[0m \u001b[38;5;28;01mif\u001b[39;00m buffer \u001b[38;5;129;01mis\u001b[39;00m \u001b[38;5;129;01mnot\u001b[39;00m \u001b[38;5;28;01mNone\u001b[39;00m:\n\u001b[0;32m-> 1166\u001b[0m     \u001b[38;5;28;01mreturn\u001b[39;00m \u001b[38;5;28mself\u001b[39m\u001b[38;5;241m.\u001b[39m_sslobj\u001b[38;5;241m.\u001b[39mread(\u001b[38;5;28mlen\u001b[39m, buffer)\n\u001b[1;32m   1167\u001b[0m \u001b[38;5;28;01melse\u001b[39;00m:\n",
      "\u001b[0;31mTimeoutError\u001b[0m: The read operation timed out",
      "\nThe above exception was the direct cause of the following exception:\n",
      "\u001b[0;31mReadTimeoutError\u001b[0m                          Traceback (most recent call last)",
      "File \u001b[0;32m/opt/anaconda3/envs/env3.11/lib/python3.11/site-packages/requests/adapters.py:667\u001b[0m, in \u001b[0;36mHTTPAdapter.send\u001b[0;34m(self, request, stream, timeout, verify, cert, proxies)\u001b[0m\n\u001b[1;32m    666\u001b[0m \u001b[38;5;28;01mtry\u001b[39;00m:\n\u001b[0;32m--> 667\u001b[0m     resp \u001b[38;5;241m=\u001b[39m conn\u001b[38;5;241m.\u001b[39murlopen(\n\u001b[1;32m    668\u001b[0m         method\u001b[38;5;241m=\u001b[39mrequest\u001b[38;5;241m.\u001b[39mmethod,\n\u001b[1;32m    669\u001b[0m         url\u001b[38;5;241m=\u001b[39murl,\n\u001b[1;32m    670\u001b[0m         body\u001b[38;5;241m=\u001b[39mrequest\u001b[38;5;241m.\u001b[39mbody,\n\u001b[1;32m    671\u001b[0m         headers\u001b[38;5;241m=\u001b[39mrequest\u001b[38;5;241m.\u001b[39mheaders,\n\u001b[1;32m    672\u001b[0m         redirect\u001b[38;5;241m=\u001b[39m\u001b[38;5;28;01mFalse\u001b[39;00m,\n\u001b[1;32m    673\u001b[0m         assert_same_host\u001b[38;5;241m=\u001b[39m\u001b[38;5;28;01mFalse\u001b[39;00m,\n\u001b[1;32m    674\u001b[0m         preload_content\u001b[38;5;241m=\u001b[39m\u001b[38;5;28;01mFalse\u001b[39;00m,\n\u001b[1;32m    675\u001b[0m         decode_content\u001b[38;5;241m=\u001b[39m\u001b[38;5;28;01mFalse\u001b[39;00m,\n\u001b[1;32m    676\u001b[0m         retries\u001b[38;5;241m=\u001b[39m\u001b[38;5;28mself\u001b[39m\u001b[38;5;241m.\u001b[39mmax_retries,\n\u001b[1;32m    677\u001b[0m         timeout\u001b[38;5;241m=\u001b[39mtimeout,\n\u001b[1;32m    678\u001b[0m         chunked\u001b[38;5;241m=\u001b[39mchunked,\n\u001b[1;32m    679\u001b[0m     )\n\u001b[1;32m    681\u001b[0m \u001b[38;5;28;01mexcept\u001b[39;00m (ProtocolError, \u001b[38;5;167;01mOSError\u001b[39;00m) \u001b[38;5;28;01mas\u001b[39;00m err:\n",
      "File \u001b[0;32m/opt/anaconda3/envs/env3.11/lib/python3.11/site-packages/urllib3/connectionpool.py:841\u001b[0m, in \u001b[0;36mHTTPConnectionPool.urlopen\u001b[0;34m(self, method, url, body, headers, retries, redirect, assert_same_host, timeout, pool_timeout, release_conn, chunked, body_pos, preload_content, decode_content, **response_kw)\u001b[0m\n\u001b[1;32m    839\u001b[0m     new_e \u001b[38;5;241m=\u001b[39m ProtocolError(\u001b[38;5;124m\"\u001b[39m\u001b[38;5;124mConnection aborted.\u001b[39m\u001b[38;5;124m\"\u001b[39m, new_e)\n\u001b[0;32m--> 841\u001b[0m retries \u001b[38;5;241m=\u001b[39m retries\u001b[38;5;241m.\u001b[39mincrement(\n\u001b[1;32m    842\u001b[0m     method, url, error\u001b[38;5;241m=\u001b[39mnew_e, _pool\u001b[38;5;241m=\u001b[39m\u001b[38;5;28mself\u001b[39m, _stacktrace\u001b[38;5;241m=\u001b[39msys\u001b[38;5;241m.\u001b[39mexc_info()[\u001b[38;5;241m2\u001b[39m]\n\u001b[1;32m    843\u001b[0m )\n\u001b[1;32m    844\u001b[0m retries\u001b[38;5;241m.\u001b[39msleep()\n",
      "File \u001b[0;32m/opt/anaconda3/envs/env3.11/lib/python3.11/site-packages/urllib3/util/retry.py:474\u001b[0m, in \u001b[0;36mRetry.increment\u001b[0;34m(self, method, url, response, error, _pool, _stacktrace)\u001b[0m\n\u001b[1;32m    473\u001b[0m \u001b[38;5;28;01mif\u001b[39;00m read \u001b[38;5;129;01mis\u001b[39;00m \u001b[38;5;28;01mFalse\u001b[39;00m \u001b[38;5;129;01mor\u001b[39;00m method \u001b[38;5;129;01mis\u001b[39;00m \u001b[38;5;28;01mNone\u001b[39;00m \u001b[38;5;129;01mor\u001b[39;00m \u001b[38;5;129;01mnot\u001b[39;00m \u001b[38;5;28mself\u001b[39m\u001b[38;5;241m.\u001b[39m_is_method_retryable(method):\n\u001b[0;32m--> 474\u001b[0m     \u001b[38;5;28;01mraise\u001b[39;00m reraise(\u001b[38;5;28mtype\u001b[39m(error), error, _stacktrace)\n\u001b[1;32m    475\u001b[0m \u001b[38;5;28;01melif\u001b[39;00m read \u001b[38;5;129;01mis\u001b[39;00m \u001b[38;5;129;01mnot\u001b[39;00m \u001b[38;5;28;01mNone\u001b[39;00m:\n",
      "File \u001b[0;32m/opt/anaconda3/envs/env3.11/lib/python3.11/site-packages/urllib3/util/util.py:39\u001b[0m, in \u001b[0;36mreraise\u001b[0;34m(tp, value, tb)\u001b[0m\n\u001b[1;32m     38\u001b[0m         \u001b[38;5;28;01mraise\u001b[39;00m value\u001b[38;5;241m.\u001b[39mwith_traceback(tb)\n\u001b[0;32m---> 39\u001b[0m     \u001b[38;5;28;01mraise\u001b[39;00m value\n\u001b[1;32m     40\u001b[0m \u001b[38;5;28;01mfinally\u001b[39;00m:\n",
      "File \u001b[0;32m/opt/anaconda3/envs/env3.11/lib/python3.11/site-packages/urllib3/connectionpool.py:787\u001b[0m, in \u001b[0;36mHTTPConnectionPool.urlopen\u001b[0;34m(self, method, url, body, headers, retries, redirect, assert_same_host, timeout, pool_timeout, release_conn, chunked, body_pos, preload_content, decode_content, **response_kw)\u001b[0m\n\u001b[1;32m    786\u001b[0m \u001b[38;5;66;03m# Make the request on the HTTPConnection object\u001b[39;00m\n\u001b[0;32m--> 787\u001b[0m response \u001b[38;5;241m=\u001b[39m \u001b[38;5;28mself\u001b[39m\u001b[38;5;241m.\u001b[39m_make_request(\n\u001b[1;32m    788\u001b[0m     conn,\n\u001b[1;32m    789\u001b[0m     method,\n\u001b[1;32m    790\u001b[0m     url,\n\u001b[1;32m    791\u001b[0m     timeout\u001b[38;5;241m=\u001b[39mtimeout_obj,\n\u001b[1;32m    792\u001b[0m     body\u001b[38;5;241m=\u001b[39mbody,\n\u001b[1;32m    793\u001b[0m     headers\u001b[38;5;241m=\u001b[39mheaders,\n\u001b[1;32m    794\u001b[0m     chunked\u001b[38;5;241m=\u001b[39mchunked,\n\u001b[1;32m    795\u001b[0m     retries\u001b[38;5;241m=\u001b[39mretries,\n\u001b[1;32m    796\u001b[0m     response_conn\u001b[38;5;241m=\u001b[39mresponse_conn,\n\u001b[1;32m    797\u001b[0m     preload_content\u001b[38;5;241m=\u001b[39mpreload_content,\n\u001b[1;32m    798\u001b[0m     decode_content\u001b[38;5;241m=\u001b[39mdecode_content,\n\u001b[1;32m    799\u001b[0m     \u001b[38;5;241m*\u001b[39m\u001b[38;5;241m*\u001b[39mresponse_kw,\n\u001b[1;32m    800\u001b[0m )\n\u001b[1;32m    802\u001b[0m \u001b[38;5;66;03m# Everything went great!\u001b[39;00m\n",
      "File \u001b[0;32m/opt/anaconda3/envs/env3.11/lib/python3.11/site-packages/urllib3/connectionpool.py:536\u001b[0m, in \u001b[0;36mHTTPConnectionPool._make_request\u001b[0;34m(self, conn, method, url, body, headers, retries, timeout, chunked, response_conn, preload_content, decode_content, enforce_content_length)\u001b[0m\n\u001b[1;32m    535\u001b[0m \u001b[38;5;28;01mexcept\u001b[39;00m (BaseSSLError, \u001b[38;5;167;01mOSError\u001b[39;00m) \u001b[38;5;28;01mas\u001b[39;00m e:\n\u001b[0;32m--> 536\u001b[0m     \u001b[38;5;28mself\u001b[39m\u001b[38;5;241m.\u001b[39m_raise_timeout(err\u001b[38;5;241m=\u001b[39me, url\u001b[38;5;241m=\u001b[39murl, timeout_value\u001b[38;5;241m=\u001b[39mread_timeout)\n\u001b[1;32m    537\u001b[0m     \u001b[38;5;28;01mraise\u001b[39;00m\n",
      "File \u001b[0;32m/opt/anaconda3/envs/env3.11/lib/python3.11/site-packages/urllib3/connectionpool.py:367\u001b[0m, in \u001b[0;36mHTTPConnectionPool._raise_timeout\u001b[0;34m(self, err, url, timeout_value)\u001b[0m\n\u001b[1;32m    366\u001b[0m \u001b[38;5;28;01mif\u001b[39;00m \u001b[38;5;28misinstance\u001b[39m(err, SocketTimeout):\n\u001b[0;32m--> 367\u001b[0m     \u001b[38;5;28;01mraise\u001b[39;00m ReadTimeoutError(\n\u001b[1;32m    368\u001b[0m         \u001b[38;5;28mself\u001b[39m, url, \u001b[38;5;124mf\u001b[39m\u001b[38;5;124m\"\u001b[39m\u001b[38;5;124mRead timed out. (read timeout=\u001b[39m\u001b[38;5;132;01m{\u001b[39;00mtimeout_value\u001b[38;5;132;01m}\u001b[39;00m\u001b[38;5;124m)\u001b[39m\u001b[38;5;124m\"\u001b[39m\n\u001b[1;32m    369\u001b[0m     ) \u001b[38;5;28;01mfrom\u001b[39;00m\u001b[38;5;250m \u001b[39m\u001b[38;5;21;01merr\u001b[39;00m\n\u001b[1;32m    371\u001b[0m \u001b[38;5;66;03m# See the above comment about EAGAIN in Python 3.\u001b[39;00m\n",
      "\u001b[0;31mReadTimeoutError\u001b[0m: HTTPSConnectionPool(host='beeai-app.1x6htwszi96f.us-south.codeengine.appdomain.cloud', port=443): Read timed out. (read timeout=30)",
      "\nDuring handling of the above exception, another exception occurred:\n",
      "\u001b[0;31mReadTimeout\u001b[0m                               Traceback (most recent call last)",
      "Cell \u001b[0;32mIn[1], line 11\u001b[0m\n\u001b[1;32m      4\u001b[0m payload \u001b[38;5;241m=\u001b[39m {\u001b[38;5;124m\"\u001b[39m\u001b[38;5;124mcompany\u001b[39m\u001b[38;5;124m\"\u001b[39m: \u001b[38;5;124m\"\u001b[39m\u001b[38;5;124mmicrosoft\u001b[39m\u001b[38;5;124m\"\u001b[39m}\n\u001b[1;32m      6\u001b[0m headers \u001b[38;5;241m=\u001b[39m {\n\u001b[1;32m      7\u001b[0m     \u001b[38;5;124m\"\u001b[39m\u001b[38;5;124mContent-Type\u001b[39m\u001b[38;5;124m\"\u001b[39m: \u001b[38;5;124m\"\u001b[39m\u001b[38;5;124mapplication/json\u001b[39m\u001b[38;5;124m\"\u001b[39m,\n\u001b[1;32m      8\u001b[0m     \u001b[38;5;124m\"\u001b[39m\u001b[38;5;124mConnection\u001b[39m\u001b[38;5;124m\"\u001b[39m: \u001b[38;5;124m\"\u001b[39m\u001b[38;5;124mclose\u001b[39m\u001b[38;5;124m\"\u001b[39m           \n\u001b[1;32m      9\u001b[0m }\n\u001b[0;32m---> 11\u001b[0m resp \u001b[38;5;241m=\u001b[39m requests\u001b[38;5;241m.\u001b[39mpost(\n\u001b[1;32m     12\u001b[0m     URL,\n\u001b[1;32m     13\u001b[0m     json\u001b[38;5;241m=\u001b[39mpayload,\n\u001b[1;32m     14\u001b[0m     headers\u001b[38;5;241m=\u001b[39mheaders,\n\u001b[1;32m     15\u001b[0m     timeout\u001b[38;5;241m=\u001b[39m\u001b[38;5;241m30\u001b[39m,\n\u001b[1;32m     16\u001b[0m     verify\u001b[38;5;241m=\u001b[39mcertifi\u001b[38;5;241m.\u001b[39mwhere()           \n\u001b[1;32m     17\u001b[0m )\n\u001b[1;32m     18\u001b[0m resp\u001b[38;5;241m.\u001b[39mraise_for_status()\n\u001b[1;32m     19\u001b[0m \u001b[38;5;28mprint\u001b[39m(resp\u001b[38;5;241m.\u001b[39mstatus_code, resp\u001b[38;5;241m.\u001b[39mjson())\n",
      "File \u001b[0;32m/opt/anaconda3/envs/env3.11/lib/python3.11/site-packages/requests/api.py:115\u001b[0m, in \u001b[0;36mpost\u001b[0;34m(url, data, json, **kwargs)\u001b[0m\n\u001b[1;32m    103\u001b[0m \u001b[38;5;28;01mdef\u001b[39;00m\u001b[38;5;250m \u001b[39m\u001b[38;5;21mpost\u001b[39m(url, data\u001b[38;5;241m=\u001b[39m\u001b[38;5;28;01mNone\u001b[39;00m, json\u001b[38;5;241m=\u001b[39m\u001b[38;5;28;01mNone\u001b[39;00m, \u001b[38;5;241m*\u001b[39m\u001b[38;5;241m*\u001b[39mkwargs):\n\u001b[1;32m    104\u001b[0m \u001b[38;5;250m    \u001b[39m\u001b[38;5;124mr\u001b[39m\u001b[38;5;124;03m\"\"\"Sends a POST request.\u001b[39;00m\n\u001b[1;32m    105\u001b[0m \n\u001b[1;32m    106\u001b[0m \u001b[38;5;124;03m    :param url: URL for the new :class:`Request` object.\u001b[39;00m\n\u001b[0;32m   (...)\u001b[0m\n\u001b[1;32m    112\u001b[0m \u001b[38;5;124;03m    :rtype: requests.Response\u001b[39;00m\n\u001b[1;32m    113\u001b[0m \u001b[38;5;124;03m    \"\"\"\u001b[39;00m\n\u001b[0;32m--> 115\u001b[0m     \u001b[38;5;28;01mreturn\u001b[39;00m request(\u001b[38;5;124m\"\u001b[39m\u001b[38;5;124mpost\u001b[39m\u001b[38;5;124m\"\u001b[39m, url, data\u001b[38;5;241m=\u001b[39mdata, json\u001b[38;5;241m=\u001b[39mjson, \u001b[38;5;241m*\u001b[39m\u001b[38;5;241m*\u001b[39mkwargs)\n",
      "File \u001b[0;32m/opt/anaconda3/envs/env3.11/lib/python3.11/site-packages/requests/api.py:59\u001b[0m, in \u001b[0;36mrequest\u001b[0;34m(method, url, **kwargs)\u001b[0m\n\u001b[1;32m     55\u001b[0m \u001b[38;5;66;03m# By using the 'with' statement we are sure the session is closed, thus we\u001b[39;00m\n\u001b[1;32m     56\u001b[0m \u001b[38;5;66;03m# avoid leaving sockets open which can trigger a ResourceWarning in some\u001b[39;00m\n\u001b[1;32m     57\u001b[0m \u001b[38;5;66;03m# cases, and look like a memory leak in others.\u001b[39;00m\n\u001b[1;32m     58\u001b[0m \u001b[38;5;28;01mwith\u001b[39;00m sessions\u001b[38;5;241m.\u001b[39mSession() \u001b[38;5;28;01mas\u001b[39;00m session:\n\u001b[0;32m---> 59\u001b[0m     \u001b[38;5;28;01mreturn\u001b[39;00m session\u001b[38;5;241m.\u001b[39mrequest(method\u001b[38;5;241m=\u001b[39mmethod, url\u001b[38;5;241m=\u001b[39murl, \u001b[38;5;241m*\u001b[39m\u001b[38;5;241m*\u001b[39mkwargs)\n",
      "File \u001b[0;32m/opt/anaconda3/envs/env3.11/lib/python3.11/site-packages/requests/sessions.py:589\u001b[0m, in \u001b[0;36mSession.request\u001b[0;34m(self, method, url, params, data, headers, cookies, files, auth, timeout, allow_redirects, proxies, hooks, stream, verify, cert, json)\u001b[0m\n\u001b[1;32m    584\u001b[0m send_kwargs \u001b[38;5;241m=\u001b[39m {\n\u001b[1;32m    585\u001b[0m     \u001b[38;5;124m\"\u001b[39m\u001b[38;5;124mtimeout\u001b[39m\u001b[38;5;124m\"\u001b[39m: timeout,\n\u001b[1;32m    586\u001b[0m     \u001b[38;5;124m\"\u001b[39m\u001b[38;5;124mallow_redirects\u001b[39m\u001b[38;5;124m\"\u001b[39m: allow_redirects,\n\u001b[1;32m    587\u001b[0m }\n\u001b[1;32m    588\u001b[0m send_kwargs\u001b[38;5;241m.\u001b[39mupdate(settings)\n\u001b[0;32m--> 589\u001b[0m resp \u001b[38;5;241m=\u001b[39m \u001b[38;5;28mself\u001b[39m\u001b[38;5;241m.\u001b[39msend(prep, \u001b[38;5;241m*\u001b[39m\u001b[38;5;241m*\u001b[39msend_kwargs)\n\u001b[1;32m    591\u001b[0m \u001b[38;5;28;01mreturn\u001b[39;00m resp\n",
      "File \u001b[0;32m/opt/anaconda3/envs/env3.11/lib/python3.11/site-packages/requests/sessions.py:703\u001b[0m, in \u001b[0;36mSession.send\u001b[0;34m(self, request, **kwargs)\u001b[0m\n\u001b[1;32m    700\u001b[0m start \u001b[38;5;241m=\u001b[39m preferred_clock()\n\u001b[1;32m    702\u001b[0m \u001b[38;5;66;03m# Send the request\u001b[39;00m\n\u001b[0;32m--> 703\u001b[0m r \u001b[38;5;241m=\u001b[39m adapter\u001b[38;5;241m.\u001b[39msend(request, \u001b[38;5;241m*\u001b[39m\u001b[38;5;241m*\u001b[39mkwargs)\n\u001b[1;32m    705\u001b[0m \u001b[38;5;66;03m# Total elapsed time of the request (approximately)\u001b[39;00m\n\u001b[1;32m    706\u001b[0m elapsed \u001b[38;5;241m=\u001b[39m preferred_clock() \u001b[38;5;241m-\u001b[39m start\n",
      "File \u001b[0;32m/opt/anaconda3/envs/env3.11/lib/python3.11/site-packages/requests/adapters.py:713\u001b[0m, in \u001b[0;36mHTTPAdapter.send\u001b[0;34m(self, request, stream, timeout, verify, cert, proxies)\u001b[0m\n\u001b[1;32m    711\u001b[0m     \u001b[38;5;28;01mraise\u001b[39;00m SSLError(e, request\u001b[38;5;241m=\u001b[39mrequest)\n\u001b[1;32m    712\u001b[0m \u001b[38;5;28;01melif\u001b[39;00m \u001b[38;5;28misinstance\u001b[39m(e, ReadTimeoutError):\n\u001b[0;32m--> 713\u001b[0m     \u001b[38;5;28;01mraise\u001b[39;00m ReadTimeout(e, request\u001b[38;5;241m=\u001b[39mrequest)\n\u001b[1;32m    714\u001b[0m \u001b[38;5;28;01melif\u001b[39;00m \u001b[38;5;28misinstance\u001b[39m(e, _InvalidHeader):\n\u001b[1;32m    715\u001b[0m     \u001b[38;5;28;01mraise\u001b[39;00m InvalidHeader(e, request\u001b[38;5;241m=\u001b[39mrequest)\n",
      "\u001b[0;31mReadTimeout\u001b[0m: HTTPSConnectionPool(host='beeai-app.1x6htwszi96f.us-south.codeengine.appdomain.cloud', port=443): Read timed out. (read timeout=30)"
     ]
    }
   ],
   "source": [
    "\n",
    "import requests, certifi\n",
    "\n",
    "URL = \"https://beeai-app.1x6htwszi96f.us-south.codeengine.appdomain.cloud/query\"\n",
    "payload = {\"company\": \"microsoft\"}\n",
    "\n",
    "headers = {\n",
    "    \"Content-Type\": \"application/json\",\n",
    "    \"Connection\": \"close\"           \n",
    "}\n",
    "\n",
    "resp = requests.post(\n",
    "    URL,\n",
    "    json=payload,\n",
    "    headers=headers,\n",
    "    timeout=30,\n",
    "    verify=certifi.where()           \n",
    ")\n",
    "resp.raise_for_status()\n",
    "print(resp.status_code, resp.json())"
   ]
  },
  {
   "cell_type": "code",
   "execution_count": 5,
   "metadata": {},
   "outputs": [
    {
     "name": "stdout",
     "output_type": "stream",
     "text": [
      "Status code: 200\n",
      "Response body: {\"answer\":\"**Executive Summary**\\nA deep dive was completed for APPLE to review its relationships and identify foreign linkages. Using several data sources and open-source intelligence, a relationship summary has been compiled for APPLE’s key officers, shareholders, addresses, controversies and financial indicators, with the following key takeaways.\\n\\nNo addresses found.\\n\\n**Key Officers**\\n\\n1. Tim Cook: As the CEO of Apple Inc., Tim Cook has been leading the company since October 2011. Prior to his appointment, Cook served as the Chief Operating Officer (COO) under Steve Jobs. With a background in industrial engineering and business administration, Cook has played a pivotal role in expanding Apple's product line and global presence.\\n\\n2. Luca Maestri: The CFO of Apple Inc., Luca Maestri joined the company in 2013. Before Apple, Maestri held various financial roles at companies like Ford Motor Company and General Electric. He is responsible for managing Apple's financial operations, including financial planning, investor relations, and corporate finance.\\n\\n3. Johny Srouji: As the SVP of Hardware Technologies, Johny Srouji oversees the design and development of Apple's custom silicon chips, including the A-series and M-series processors. Srouji joined Apple in 1999 and has been instrumental in the company's transition to its own chip designs.\\n\\n4. Kaiann Drance: The SVP of iPhone Product Marketing, Kaiann Drance is responsible for driving the marketing strategy and customer experience for Apple's iPhone lineup. Drance joined Apple in 2008 and has held various marketing roles within the company.\\n\\n5. Dan Riccio: The former SVP of Hardware Engineering, Dan Riccio, led the engineering teams responsible for designing and developing Apple's hardware products, including the iPhone, iPad, Mac, and Apple Watch. Riccio stepped down from his role in July 2020 and was succeeded by John Ternus.\\n\\n6. John Ternus: As the current SVP of Hardware Engineering, John Ternus oversees the engineering teams responsible for designing and developing Apple's hardware products. Ternus joined Apple in 1999 and has held various engineering roles within the company.\\n\\n7. Deirdre O'Brien: The SVP of Retail + People, Deirdre O'Brien manages Apple's retail operations and human resources. O'Brien joined Apple in 2008 and has played a key role in the company's retail expansion and employee development initiatives.\\n\\n8. Eddy Cue: As the SVP of Internet Software and Services, Eddy Cue oversees Apple's various internet services, including the App Store, Apple Music, iCloud, and Apple Pay. Cue joined Apple in 1999 and has been instrumental in the development and growth of these services.\\n\\n9. Craig Federighi: The SVP of Software Engineering, Craig Federighi leads the development of Apple's operating systems, including iOS, iPadOS, macOS, watchOS, and tvOS. Federighi joined Apple in 1997 and has been a key figure in the company's software innovations.\\n\\n10. Sabih Khan: The SVP of Operations, Sabih Khan oversees Apple's global supply chain, manufacturing, and environmental initiatives. Khan joined Apple in 2014 and has played a crucial role in optimizing the company's supply chain and sustainability efforts.\\n\\n**Key Shareholders**\\n\\nAs of the quarter ending 2024-12-31, the company's key shareholders are represented by a diverse group of 5,820 reporting institutions, collectively holding 9.4 billion shares. These holdings are valued at a substantial $2353.2 billion, translating to an ownership percentage of 62.42%. The institutions have demonstrated active engagement, with 721 new positions established and 2,707 positions increased, while 2,588 positions were reduced and 197 positions were closed. This activity suggests a strategic rebalancing among the shareholders. The put/call ratio of 1.21 indicates a slightly bearish sentiment, as it exceeds 1, implying more put options are held than call options. Notably, the quarter-on-quarter changes in the number of positions are significant, with a 5.3% increase in positions increased and a 4.9% decrease in positions reduced.\"}\n"
     ]
    }
   ],
   "source": [
    "import httpx\n",
    "\n",
    "url = \"https://beeai-app.1x6htwszi96f.us-south.codeengine.appdomain.cloud/query\"\n",
    "payload = {\"company\": \"apple\"}\n",
    "headers = {\n",
    "    \"Content-Type\": \"application/json\",\n",
    "    \"Connection\": \"close\",\n",
    "}\n",
    "\n",
    "# Synchronous version\n",
    "with httpx.Client() as client:\n",
    "    response = client.post(url, headers=headers, json=payload, timeout=30)\n",
    "    print(\"Status code:\", response.status_code)\n",
    "    print(\"Response body:\", response.text)\n"
   ]
  },
  {
   "cell_type": "code",
   "execution_count": 1,
   "metadata": {},
   "outputs": [
    {
     "name": "stderr",
     "output_type": "stream",
     "text": [
      "/opt/anaconda3/envs/env3.11/lib/python3.11/site-packages/urllib3/connectionpool.py:1097: InsecureRequestWarning: Unverified HTTPS request is being made to host 'beeai-app.1x6htwszi96f.us-south.codeengine.appdomain.cloud'. Adding certificate verification is strongly advised. See: https://urllib3.readthedocs.io/en/latest/advanced-usage.html#tls-warnings\n",
      "  warnings.warn(\n"
     ]
    },
    {
     "name": "stdout",
     "output_type": "stream",
     "text": [
      "Exception occurred: HTTPSConnectionPool(host='beeai-app.1x6htwszi96f.us-south.codeengine.appdomain.cloud', port=443): Read timed out. (read timeout=30)\n"
     ]
    }
   ],
   "source": [
    "import requests\n",
    "\n",
    "url = \"https://beeai-app.1x6htwszi96f.us-south.codeengine.appdomain.cloud/query\"\n",
    "payload = {\"company\": \"coface\"}\n",
    "headers = {\"Content-Type\": \"application/json\"}\n",
    "\n",
    "try:\n",
    "    response = requests.post(url, json=payload, headers=headers, timeout=30, verify=False)\n",
    "    print(\"Status code:\", response.status_code)\n",
    "    print(\"Response body:\", response.text)\n",
    "except Exception as e:\n",
    "    print(\"Exception occurred:\", e)\n"
   ]
  },
  {
   "cell_type": "code",
   "execution_count": 4,
   "metadata": {},
   "outputs": [
    {
     "name": "stdout",
     "output_type": "stream",
     "text": [
      "{'detail': 'Not Found'}\n"
     ]
    }
   ],
   "source": [
    "import requests\n",
    "\n",
    "payload = {\"company\": \"google\"}\n",
    "resp = requests.post(\"https://application-e0.1x6htwszi96f.us-south.codeengine.appdomain.cloud:query\", json=payload)\n",
    "print(resp.json())\n"
   ]
  },
  {
   "cell_type": "code",
   "execution_count": null,
   "metadata": {},
   "outputs": [],
   "source": []
  }
 ],
 "metadata": {
  "kernelspec": {
   "display_name": "env3.11",
   "language": "python",
   "name": "python3"
  },
  "language_info": {
   "codemirror_mode": {
    "name": "ipython",
    "version": 3
   },
   "file_extension": ".py",
   "mimetype": "text/x-python",
   "name": "python",
   "nbconvert_exporter": "python",
   "pygments_lexer": "ipython3",
   "version": "3.11.9"
  }
 },
 "nbformat": 4,
 "nbformat_minor": 2
}
