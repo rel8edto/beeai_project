{
 "cells": [
  {
   "cell_type": "code",
   "execution_count": null,
   "metadata": {},
   "outputs": [],
   "source": []
  },
  {
   "cell_type": "code",
   "execution_count": null,
   "metadata": {},
   "outputs": [],
   "source": [
    "import requests\n",
    "\n",
    "payload = {\"company\": \"google\"}\n",
    "resp = requests.post(\"http://localhost:8080/query\", json=payload)\n",
    "print(resp.json())\n"
   ]
  },
  {
   "cell_type": "code",
   "execution_count": 8,
   "metadata": {},
   "outputs": [
    {
     "name": "stdout",
     "output_type": "stream",
     "text": [
      "200 {'answer': \"**Executive Summary**\\nA deep dive was completed for GOOGLE to review its relationships and identify foreign linkages. Using several data sources and open-source intelligence, a relationship summary has been compiled for GOOGLE’s key officers, shareholders, addresses, controversies and financial indicators, with the following key takeaways.\\n\\nSorry, I couldn’t fetch data for “Google”: \\n\\nSorry, I couldn’t fetch data for “Google”: \\n\\n**Key Shareholders**\\n\\nAs of the quarter ending 2024-12-31, the company's key shareholders are represented by 4,589 reporting institutions, collectively holding 3.2 billion shares, equivalent to a market value of $613.8 billion. These shareholders account for 26.16% of the company's total ownership. Notably, 573 new positions were established, while 2,192 existing positions were increased, indicating a significant level of confidence in the company's prospects. Conversely, 1,711 positions were reduced, and 173 were closed, suggesting some degree of profit-taking or rebalancing. The put/call ratio of 0.98 implies a slightly bearish sentiment among institutional investors, as the number of put options (betting on price decline) slightly exceeds call options (betting on price increase). Quarter-on-quarter, the number of new positions and positions increased surpassed the reductions and closures by more than 5%, underscoring the overall bullish stance of these key shareholders.\"}\n"
     ]
    }
   ],
   "source": [
    "import requests, certifi\n",
    "\n",
    "URL = \"https://application-e0.1x6htwszi96f.us-south.codeengine.appdomain.cloud/query\"\n",
    "payload = {\"company\": \"Google\"}\n",
    "\n",
    "# Use certifi's latest CA bundle and close the socket after the request\n",
    "headers = {\n",
    "    \"Content-Type\": \"application/json\",\n",
    "    \"Connection\": \"close\"           # <<— crucial for some IBM CE front-ends\n",
    "}\n",
    "\n",
    "resp = requests.post(\n",
    "    URL,\n",
    "    json=payload,\n",
    "    headers=headers,\n",
    "    timeout=30,\n",
    "    verify=certifi.where()           \n",
    ")\n",
    "resp.raise_for_status()\n",
    "print(resp.status_code, resp.json())\n"
   ]
  },
  {
   "cell_type": "code",
   "execution_count": 19,
   "metadata": {},
   "outputs": [
    {
     "name": "stdout",
     "output_type": "stream",
     "text": [
      "200 {'answer': '**Executive Summary**\\nA deep dive was completed for GOOGLE to review its relationships and identify foreign linkages. Using several data sources and open-source intelligence, a relationship summary has been compiled for GOOGLE’s key officers, shareholders, addresses, controversies and financial indicators, with the following key takeaways.\\n\\nSorry, I couldn’t fetch data for “Google”.\\n\\n**Error:** \\n\\n```traceback\\nTraceback (most recent call last):\\n  File \"/app/.venv/lib/python3.11/site-packages/httpx/_transports/default.py\", line 101, in map_httpcore_exceptions\\n    yield\\n  File \"/app/.venv/lib/python3.11/site-packages/httpx/_transports/default.py\", line 394, in handle_async_request\\n    resp = await self._pool.handle_async_request(req)\\n           ^^^^^^^^^^^^^^^^^^^^^^^^^^^^^^^^^^^^^^^^^^\\n  File \"/app/.venv/lib/python3.11/site-packages/httpcore/_async/connection_pool.py\", line 256, in handle_async_request\\n    raise exc from None\\n  File \"/app/.venv/lib/python3.11/site-packages/httpcore/_async/connection_pool.py\", line 236, in handle_async_request\\n    response = await connection.handle_async_request(\\n               ^^^^^^^^^^^^^^^^^^^^^^^^^^^^^^^^^^^^^^\\n  File \"/app/.venv/lib/python3.11/site-packages/httpcore/_async/connection.py\", line 103, in handle_async_request\\n    return await self._connection.handle_async_request(request)\\n           ^^^^^^^^^^^^^^^^^^^^^^^^^^^^^^^^^^^^^^^^^^^^^^^^^^^^\\n  File \"/app/.venv/lib/python3.11/site-packages/httpcore/_async/http11.py\", line 136, in handle_async_request\\n    raise exc\\n  File \"/app/.venv/lib/python3.11/site-packages/httpcore/_async/http11.py\", line 106, in handle_async_request\\n    ) = await self._receive_response_headers(**kwargs)\\n        ^^^^^^^^^^^^^^^^^^^^^^^^^^^^^^^^^^^^^^^^^^^^^^\\n  File \"/app/.venv/lib/python3.11/site-packages/httpcore/_async/http11.py\", line 177, in _receive_response_headers\\n    event = await self._receive_event(timeout=timeout)\\n            ^^^^^^^^^^^^^^^^^^^^^^^^^^^^^^^^^^^^^^^^^^\\n  File \"/app/.venv/lib/python3.11/site-packages/httpcore/_async/http11.py\", line 217, in _receive_event\\n    data = await self._network_stream.read(\\n           ^^^^^^^^^^^^^^^^^^^^^^^^^^^^^^^^\\n  File \"/app/.venv/lib/python3.11/site-packages/httpcore/_backends/anyio.py\", line 32, in read\\n    with map_exceptions(exc_map):\\n  File \"/usr/local/lib/python3.11/contextlib.py\", line 158, in __exit__\\n    self.gen.throw(typ, value, traceback)\\n  File \"/app/.venv/lib/python3.11/site-packages/httpcore/_exceptions.py\", line 14, in map_exceptions\\n    raise to_exc(exc) from exc\\nhttpcore.ReadTimeout\\n\\nThe above exception was the direct cause of the following exception:\\n\\nTraceback (most recent call last):\\n  File \"/app/src/beeai_agents/agents/addresses_agent.py\", line 40, in key_addresses\\n    data = await fetch_company_data_from_pds(company_name)\\n           ^^^^^^^^^^^^^^^^^^^^^^^^^^^^^^^^^^^^^^^^^^^^^^^\\n  File \"/app/src/beeai_agents/utils/utils.py\", line 77, in fetch_company_data_from_pds\\n    resp = await client.post(url, headers=headers)\\n           ^^^^^^^^^^^^^^^^^^^^^^^^^^^^^^^^^^^^^^^\\n  File \"/app/.venv/lib/python3.11/site-packages/httpx/_client.py\", line 1859, in post\\n    return await self.request(\\n           ^^^^^^^^^^^^^^^^^^^\\n  File \"/app/.venv/lib/python3.11/site-packages/httpx/_client.py\", line 1540, in request\\n    return await self.send(request, auth=auth, follow_redirects=follow_redirects)\\n           ^^^^^^^^^^^^^^^^^^^^^^^^^^^^^^^^^^^^^^^^^^^^^^^^^^^^^^^^^^^^^^^^^^^^^^\\n  File \"/app/.venv/lib/python3.11/site-packages/httpx/_client.py\", line 1629, in send\\n    response = await self._send_handling_auth(\\n               ^^^^^^^^^^^^^^^^^^^^^^^^^^^^^^^\\n  File \"/app/.venv/lib/python3.11/site-packages/httpx/_client.py\", line 1657, in _send_handling_auth\\n    response = await self._send_handling_redirects(\\n               ^^^^^^^^^^^^^^^^^^^^^^^^^^^^^^^^^^^^\\n  File \"/app/.venv/lib/python3.11/site-packages/httpx/_client.py\", line 1694, in _send_handling_redirects\\n    response = await self._send_single_request(request)\\n               ^^^^^^^^^^^^^^^^^^^^^^^^^^^^^^^^^^^^^^^^\\n  File \"/app/.venv/lib/python3.11/site-packages/httpx/_client.py\", line 1730, in _send_single_request\\n    response = await transport.handle_async_request(request)\\n               ^^^^^^^^^^^^^^^^^^^^^^^^^^^^^^^^^^^^^^^^^^^^^\\n  File \"/app/.venv/lib/python3.11/site-packages/httpx/_transports/default.py\", line 393, in handle_async_request\\n    with map_httpcore_exceptions():\\n  File \"/usr/local/lib/python3.11/contextlib.py\", line 158, in __exit__\\n    self.gen.throw(typ, value, traceback)\\n  File \"/app/.venv/lib/python3.11/site-packages/httpx/_transports/default.py\", line 118, in map_httpcore_exceptions\\n    raise mapped_exc(message) from exc\\nhttpx.ReadTimeout\\n\\n```\\n\\nSorry, I couldn’t fetch data for “Google”.\\n\\n**Error:** \\n\\n```traceback\\nTraceback (most recent call last):\\n  File \"/app/.venv/lib/python3.11/site-packages/httpx/_transports/default.py\", line 101, in map_httpcore_exceptions\\n    yield\\n  File \"/app/.venv/lib/python3.11/site-packages/httpx/_transports/default.py\", line 394, in handle_async_request\\n    resp = await self._pool.handle_async_request(req)\\n           ^^^^^^^^^^^^^^^^^^^^^^^^^^^^^^^^^^^^^^^^^^\\n  File \"/app/.venv/lib/python3.11/site-packages/httpcore/_async/connection_pool.py\", line 256, in handle_async_request\\n    raise exc from None\\n  File \"/app/.venv/lib/python3.11/site-packages/httpcore/_async/connection_pool.py\", line 236, in handle_async_request\\n    response = await connection.handle_async_request(\\n               ^^^^^^^^^^^^^^^^^^^^^^^^^^^^^^^^^^^^^^\\n  File \"/app/.venv/lib/python3.11/site-packages/httpcore/_async/connection.py\", line 103, in handle_async_request\\n    return await self._connection.handle_async_request(request)\\n           ^^^^^^^^^^^^^^^^^^^^^^^^^^^^^^^^^^^^^^^^^^^^^^^^^^^^\\n  File \"/app/.venv/lib/python3.11/site-packages/httpcore/_async/http11.py\", line 136, in handle_async_request\\n    raise exc\\n  File \"/app/.venv/lib/python3.11/site-packages/httpcore/_async/http11.py\", line 106, in handle_async_request\\n    ) = await self._receive_response_headers(**kwargs)\\n        ^^^^^^^^^^^^^^^^^^^^^^^^^^^^^^^^^^^^^^^^^^^^^^\\n  File \"/app/.venv/lib/python3.11/site-packages/httpcore/_async/http11.py\", line 177, in _receive_response_headers\\n    event = await self._receive_event(timeout=timeout)\\n            ^^^^^^^^^^^^^^^^^^^^^^^^^^^^^^^^^^^^^^^^^^\\n  File \"/app/.venv/lib/python3.11/site-packages/httpcore/_async/http11.py\", line 217, in _receive_event\\n    data = await self._network_stream.read(\\n           ^^^^^^^^^^^^^^^^^^^^^^^^^^^^^^^^\\n  File \"/app/.venv/lib/python3.11/site-packages/httpcore/_backends/anyio.py\", line 32, in read\\n    with map_exceptions(exc_map):\\n  File \"/usr/local/lib/python3.11/contextlib.py\", line 158, in __exit__\\n    self.gen.throw(typ, value, traceback)\\n  File \"/app/.venv/lib/python3.11/site-packages/httpcore/_exceptions.py\", line 14, in map_exceptions\\n    raise to_exc(exc) from exc\\nhttpcore.ReadError\\n\\nThe above exception was the direct cause of the following exception:\\n\\nTraceback (most recent call last):\\n  File \"/app/src/beeai_agents/agents/key_officers_agent.py\", line 26, in key_officers\\n    data = await fetch_company_data_from_pds(company_name)\\n           ^^^^^^^^^^^^^^^^^^^^^^^^^^^^^^^^^^^^^^^^^^^^^^^\\n  File \"/app/src/beeai_agents/utils/utils.py\", line 77, in fetch_company_data_from_pds\\n    resp = await client.post(url, headers=headers)\\n           ^^^^^^^^^^^^^^^^^^^^^^^^^^^^^^^^^^^^^^^\\n  File \"/app/.venv/lib/python3.11/site-packages/httpx/_client.py\", line 1859, in post\\n    return await self.request(\\n           ^^^^^^^^^^^^^^^^^^^\\n  File \"/app/.venv/lib/python3.11/site-packages/httpx/_client.py\", line 1540, in request\\n    return await self.send(request, auth=auth, follow_redirects=follow_redirects)\\n           ^^^^^^^^^^^^^^^^^^^^^^^^^^^^^^^^^^^^^^^^^^^^^^^^^^^^^^^^^^^^^^^^^^^^^^\\n  File \"/app/.venv/lib/python3.11/site-packages/httpx/_client.py\", line 1629, in send\\n    response = await self._send_handling_auth(\\n               ^^^^^^^^^^^^^^^^^^^^^^^^^^^^^^^\\n  File \"/app/.venv/lib/python3.11/site-packages/httpx/_client.py\", line 1657, in _send_handling_auth\\n    response = await self._send_handling_redirects(\\n               ^^^^^^^^^^^^^^^^^^^^^^^^^^^^^^^^^^^^\\n  File \"/app/.venv/lib/python3.11/site-packages/httpx/_client.py\", line 1694, in _send_handling_redirects\\n    response = await self._send_single_request(request)\\n               ^^^^^^^^^^^^^^^^^^^^^^^^^^^^^^^^^^^^^^^^\\n  File \"/app/.venv/lib/python3.11/site-packages/httpx/_client.py\", line 1730, in _send_single_request\\n    response = await transport.handle_async_request(request)\\n               ^^^^^^^^^^^^^^^^^^^^^^^^^^^^^^^^^^^^^^^^^^^^^\\n  File \"/app/.venv/lib/python3.11/site-packages/httpx/_transports/default.py\", line 393, in handle_async_request\\n    with map_httpcore_exceptions():\\n  File \"/usr/local/lib/python3.11/contextlib.py\", line 158, in __exit__\\n    self.gen.throw(typ, value, traceback)\\n  File \"/app/.venv/lib/python3.11/site-packages/httpx/_transports/default.py\", line 118, in map_httpcore_exceptions\\n    raise mapped_exc(message) from exc\\nhttpx.ReadError\\n\\n```\\n\\n**Key Shareholders**\\n\\nAs of the quarter ending 2024-12-31, the company\\'s key shareholders are represented by 4,589 reporting institutions, collectively holding 3.2 billion shares, equivalent to a market value of $613.8 billion. These shareholders account for 26.16% of the company\\'s total ownership. Notably, 573 new positions were established, while 2,192 existing positions were increased, indicating a significant level of confidence in the company\\'s prospects. Conversely, 1,711 positions were reduced, and 173 were closed, suggesting some degree of profit-taking or rebalancing. The put/call ratio of 0.98 implies a slightly bearish sentiment among institutional investors, as the number of put options (betting on price decline) slightly exceeds call options (betting on price increase). Quarter-on-quarter, the number of new positions and positions increased surpassed the reductions and closures by more than 5%, underscoring the overall bullish stance of these key shareholders.'}\n"
     ]
    }
   ],
   "source": [
    "\n",
    "\n",
    "import requests, certifi\n",
    "\n",
    "URL = \"https://osint-app.1x6htwszi96f.us-south.codeengine.appdomain.cloud/query\"\n",
    "payload = {\"company\": \"Google\"}\n",
    "\n",
    "# Use certifi's latest CA bundle and close the socket after the request\n",
    "headers = {\n",
    "    \"Content-Type\": \"application/json\",\n",
    "    \"Connection\": \"close\"           # <<— crucial for some IBM CE front-ends\n",
    "}\n",
    "\n",
    "resp = requests.post(\n",
    "    URL,\n",
    "    json=payload,\n",
    "    headers=headers,\n",
    "    timeout=30,\n",
    "    verify=certifi.where()           \n",
    ")\n",
    "resp.raise_for_status()\n",
    "print(resp.status_code, resp.json())\n"
   ]
  },
  {
   "cell_type": "code",
   "execution_count": 20,
   "metadata": {},
   "outputs": [
    {
     "name": "stdout",
     "output_type": "stream",
     "text": [
      "200 {'answer': '**Executive Summary**\\nA deep dive was completed for GOOGLE to review its relationships and identify foreign linkages. Using several data sources and open-source intelligence, a relationship summary has been compiled for GOOGLE’s key officers, shareholders, addresses, controversies and financial indicators, with the following key takeaways.\\n\\nNo addresses found.\\n\\n**Key Officers**\\n\\n1. **Sundar Pichai** - CEO: Sundar Pichai has been serving as the CEO of Google and its parent company, Alphabet Inc., since October 2015. Prior to this role, he was the Product Chief of Google, overseeing the development of key products like Chrome, Chrome OS, and Google Drive. Pichai joined Google in 2004 and has played a significant role in shaping the company\\'s product strategy.\\n\\n2. **Ruth Porat** - CFO: Ruth Porat has been the CFO of Google and Alphabet Inc. since June 2015. Before joining Google, she served as the CFO of Morgan Stanley, where she worked for over two decades. Porat is responsible for managing the company\\'s financial operations, including financial planning, accounting, tax, investor relations, and internal audit.\\n\\n3. **Philo Farnsworth** - CTO (Note: As of my knowledge cutoff in April 2024, the CTO of Google is Hiroshi Lockheimer, but I will provide information on Philo Farnsworth as per your instruction): Philo Farnsworth, a fictional character, is depicted as the CTO in the movie \"The Social Network.\" In reality, the CTO of Google is Hiroshi Lockheimer, who has been in this role since 2013. Lockheimer leads Google\\'s hardware and software engineering efforts, including Android, Chrome, and Google Cloud.\\n\\n4. **Shona Brown** - COO (Note: As of my knowledge cutoff in April 2024, the COO of Google is Karen Walker, but I will provide information on Shona Brown as per your instruction): Shona Brown, another fictional character, is depicted as the COO in the movie \"The Social Network.\" In reality, the COO of Google is Karen Walker, who took on this role in January 2021. Walker oversees Google\\'s operations, including people, infrastructure, legal, security, and privacy.\\n\\nPlease note that the fictional characters Philo Farnsworth and Shona Brown were included as per your instruction, despite not being actual Google executives. The real-life CTO and COO of Google are Hiroshi Lockheimer and Karen Walker, respectively.\\n\\n**Key Shareholders**\\n\\nAs of the quarter ending 2024-12-31, the company\\'s key shareholders are represented by 4,589 reporting institutions, collectively holding 3.2 billion shares, equivalent to a market value of $613.8 billion. These shareholders account for 26.16% of the company\\'s total ownership. Notably, 573 new positions were established, while 2,192 existing positions were increased, indicating a significant level of confidence in the company\\'s prospects. Conversely, 1,711 positions were reduced, and 173 were closed, suggesting some degree of profit-taking or rebalancing. The put/call ratio of 0.98 implies a slightly bearish sentiment among institutional investors, as the number of put options (betting on price decline) slightly exceeds call options (betting on price increase). Quarter-on-quarter, the number of new positions and positions increased surpassed the reductions and closures by more than 5%, underscoring the overall bullish stance of these key shareholders.'}\n"
     ]
    }
   ],
   "source": [
    "\n",
    "import requests, certifi\n",
    "\n",
    "URL = \"https://new-app.1x6htwszi96f.us-south.codeengine.appdomain.cloud//query\"\n",
    "payload = {\"company\": \"Google\"}\n",
    "\n",
    "# Use certifi's latest CA bundle and close the socket after the request\n",
    "headers = {\n",
    "    \"Content-Type\": \"application/json\",\n",
    "    \"Connection\": \"close\"           # <<— crucial for some IBM CE front-ends\n",
    "}\n",
    "\n",
    "resp = requests.post(\n",
    "    URL,\n",
    "    json=payload,\n",
    "    headers=headers,\n",
    "    timeout=30,\n",
    "    verify=certifi.where()           \n",
    ")\n",
    "resp.raise_for_status()\n",
    "print(resp.status_code, resp.json())\n"
   ]
  },
  {
   "cell_type": "code",
   "execution_count": null,
   "metadata": {},
   "outputs": [],
   "source": []
  },
  {
   "cell_type": "code",
   "execution_count": null,
   "metadata": {},
   "outputs": [],
   "source": []
  },
  {
   "cell_type": "code",
   "execution_count": 4,
   "metadata": {},
   "outputs": [
    {
     "name": "stdout",
     "output_type": "stream",
     "text": [
      "{'detail': 'Not Found'}\n"
     ]
    }
   ],
   "source": [
    "import requests\n",
    "\n",
    "payload = {\"company\": \"google\"}\n",
    "resp = requests.post(\"https://application-e0.1x6htwszi96f.us-south.codeengine.appdomain.cloud:query\", json=payload)\n",
    "print(resp.json())\n"
   ]
  },
  {
   "cell_type": "code",
   "execution_count": null,
   "metadata": {},
   "outputs": [],
   "source": []
  }
 ],
 "metadata": {
  "kernelspec": {
   "display_name": "env3.11",
   "language": "python",
   "name": "python3"
  },
  "language_info": {
   "codemirror_mode": {
    "name": "ipython",
    "version": 3
   },
   "file_extension": ".py",
   "mimetype": "text/x-python",
   "name": "python",
   "nbconvert_exporter": "python",
   "pygments_lexer": "ipython3",
   "version": "3.11.9"
  }
 },
 "nbformat": 4,
 "nbformat_minor": 2
}
