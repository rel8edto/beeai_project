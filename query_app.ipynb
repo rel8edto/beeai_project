{
 "cells": [
  {
   "cell_type": "code",
   "execution_count": null,
   "metadata": {},
   "outputs": [],
   "source": []
  },
  {
   "cell_type": "code",
   "execution_count": null,
   "metadata": {},
   "outputs": [],
   "source": [
    "import requests\n",
    "\n",
    "payload = {\"company\": \"google\"}\n",
    "resp = requests.post(\"http://localhost:8080/query\", json=payload)\n",
    "print(resp.json())\n"
   ]
  },
  {
   "cell_type": "code",
   "execution_count": 4,
   "metadata": {},
   "outputs": [
    {
     "name": "stdout",
     "output_type": "stream",
     "text": [
      "200 {'answer': \"**Executive Summary**\\nA deep dive was completed for GOOGLE to review its relationships and identify foreign linkages. Using several data sources and open-source intelligence, a relationship summary has been compiled for GOOGLE’s key officers, shareholders, addresses, controversies and financial indicators, with the following key takeaways.\\n\\nSorry, I couldn’t fetch data for “Google”: \\n\\nSorry, I couldn’t fetch data for “Google”: \\n\\n**Key Shareholders**\\n\\nAs of the quarter ending 2024-12-31, the company's key shareholders are represented by 4,589 reporting institutions, collectively holding 3.2 billion shares, equivalent to a market value of $613.8 billion. These shareholders account for 26.16% of the company's total ownership. Notably, 573 new positions were established, while 2,192 existing positions were increased, indicating a significant level of confidence in the company's prospects. Conversely, 1,711 positions were reduced, and 173 were closed, suggesting some degree of profit-taking or rebalancing. The put/call ratio of 0.98 implies a slightly bearish sentiment among institutional investors, as the number of put options (betting on price decline) slightly exceeds call options (betting on price increase). Quarter-on-quarter, the number of new positions and positions increased surpassed the reductions and closures by more than 5%, underscoring the overall bullish stance of these key shareholders.\"}\n"
     ]
    }
   ],
   "source": [
    "import requests, certifi\n",
    "\n",
    "URL = \"https://application-e0.1x6htwszi96f.us-south.codeengine.appdomain.cloud/query\"\n",
    "payload = {\"company\": \"Google\"}\n",
    "\n",
    "# Use certifi's latest CA bundle and close the socket after the request\n",
    "headers = {\n",
    "    \"Content-Type\": \"application/json\",\n",
    "    \"Connection\": \"close\"           # <<— crucial for some IBM CE front-ends\n",
    "}\n",
    "\n",
    "resp = requests.post(\n",
    "    URL,\n",
    "    json=payload,\n",
    "    headers=headers,\n",
    "    timeout=30,\n",
    "    verify=certifi.where()           \n",
    ")\n",
    "resp.raise_for_status()\n",
    "print(resp.status_code, resp.json())\n"
   ]
  },
  {
   "cell_type": "code",
   "execution_count": 4,
   "metadata": {},
   "outputs": [
    {
     "name": "stdout",
     "output_type": "stream",
     "text": [
      "{'detail': 'Not Found'}\n"
     ]
    }
   ],
   "source": [
    "import requests\n",
    "\n",
    "payload = {\"company\": \"google\"}\n",
    "resp = requests.post(\"https://application-e0.1x6htwszi96f.us-south.codeengine.appdomain.cloud:query\", json=payload)\n",
    "print(resp.json())\n"
   ]
  },
  {
   "cell_type": "code",
   "execution_count": null,
   "metadata": {},
   "outputs": [],
   "source": []
  }
 ],
 "metadata": {
  "kernelspec": {
   "display_name": "env3.11",
   "language": "python",
   "name": "python3"
  },
  "language_info": {
   "codemirror_mode": {
    "name": "ipython",
    "version": 3
   },
   "file_extension": ".py",
   "mimetype": "text/x-python",
   "name": "python",
   "nbconvert_exporter": "python",
   "pygments_lexer": "ipython3",
   "version": "3.11.9"
  }
 },
 "nbformat": 4,
 "nbformat_minor": 2
}
