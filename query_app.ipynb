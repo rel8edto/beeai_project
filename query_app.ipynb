{
 "cells": [
  {
   "cell_type": "code",
   "execution_count": null,
   "metadata": {},
   "outputs": [],
   "source": []
  },
  {
   "cell_type": "code",
   "execution_count": null,
   "metadata": {},
   "outputs": [],
   "source": [
    "import requests\n",
    "\n",
    "payload = {\"company\": \"google\"}\n",
    "resp = requests.post(\"http://localhost:8080/query\", json=payload)\n",
    "print(resp.json())\n"
   ]
  },
  {
   "cell_type": "code",
   "execution_count": 8,
   "metadata": {},
   "outputs": [
    {
     "name": "stdout",
     "output_type": "stream",
     "text": [
      "200 {'answer': \"**Executive Summary**\\nA deep dive was completed for GOOGLE to review its relationships and identify foreign linkages. Using several data sources and open-source intelligence, a relationship summary has been compiled for GOOGLE’s key officers, shareholders, addresses, controversies and financial indicators, with the following key takeaways.\\n\\nSorry, I couldn’t fetch data for “Google”: \\n\\nSorry, I couldn’t fetch data for “Google”: \\n\\n**Key Shareholders**\\n\\nAs of the quarter ending 2024-12-31, the company's key shareholders are represented by 4,589 reporting institutions, collectively holding 3.2 billion shares, equivalent to a market value of $613.8 billion. These shareholders account for 26.16% of the company's total ownership. Notably, 573 new positions were established, while 2,192 existing positions were increased, indicating a significant level of confidence in the company's prospects. Conversely, 1,711 positions were reduced, and 173 were closed, suggesting some degree of profit-taking or rebalancing. The put/call ratio of 0.98 implies a slightly bearish sentiment among institutional investors, as the number of put options (betting on price decline) slightly exceeds call options (betting on price increase). Quarter-on-quarter, the number of new positions and positions increased surpassed the reductions and closures by more than 5%, underscoring the overall bullish stance of these key shareholders.\"}\n"
     ]
    }
   ],
   "source": [
    "import requests, certifi\n",
    "\n",
    "URL = \"https://application-e0.1x6htwszi96f.us-south.codeengine.appdomain.cloud/query\"\n",
    "payload = {\"company\": \"Google\"}\n",
    "\n",
    "# Use certifi's latest CA bundle and close the socket after the request\n",
    "headers = {\n",
    "    \"Content-Type\": \"application/json\",\n",
    "    \"Connection\": \"close\"           # <<— crucial for some IBM CE front-ends\n",
    "}\n",
    "\n",
    "resp = requests.post(\n",
    "    URL,\n",
    "    json=payload,\n",
    "    headers=headers,\n",
    "    timeout=30,\n",
    "    verify=certifi.where()           \n",
    ")\n",
    "resp.raise_for_status()\n",
    "print(resp.status_code, resp.json())\n"
   ]
  },
  {
   "cell_type": "code",
   "execution_count": 19,
   "metadata": {},
   "outputs": [
    {
     "name": "stdout",
     "output_type": "stream",
     "text": [
      "200 {'answer': '**Executive Summary**\\nA deep dive was completed for GOOGLE to review its relationships and identify foreign linkages. Using several data sources and open-source intelligence, a relationship summary has been compiled for GOOGLE’s key officers, shareholders, addresses, controversies and financial indicators, with the following key takeaways.\\n\\nSorry, I couldn’t fetch data for “Google”.\\n\\n**Error:** \\n\\n```traceback\\nTraceback (most recent call last):\\n  File \"/app/.venv/lib/python3.11/site-packages/httpx/_transports/default.py\", line 101, in map_httpcore_exceptions\\n    yield\\n  File \"/app/.venv/lib/python3.11/site-packages/httpx/_transports/default.py\", line 394, in handle_async_request\\n    resp = await self._pool.handle_async_request(req)\\n           ^^^^^^^^^^^^^^^^^^^^^^^^^^^^^^^^^^^^^^^^^^\\n  File \"/app/.venv/lib/python3.11/site-packages/httpcore/_async/connection_pool.py\", line 256, in handle_async_request\\n    raise exc from None\\n  File \"/app/.venv/lib/python3.11/site-packages/httpcore/_async/connection_pool.py\", line 236, in handle_async_request\\n    response = await connection.handle_async_request(\\n               ^^^^^^^^^^^^^^^^^^^^^^^^^^^^^^^^^^^^^^\\n  File \"/app/.venv/lib/python3.11/site-packages/httpcore/_async/connection.py\", line 103, in handle_async_request\\n    return await self._connection.handle_async_request(request)\\n           ^^^^^^^^^^^^^^^^^^^^^^^^^^^^^^^^^^^^^^^^^^^^^^^^^^^^\\n  File \"/app/.venv/lib/python3.11/site-packages/httpcore/_async/http11.py\", line 136, in handle_async_request\\n    raise exc\\n  File \"/app/.venv/lib/python3.11/site-packages/httpcore/_async/http11.py\", line 106, in handle_async_request\\n    ) = await self._receive_response_headers(**kwargs)\\n        ^^^^^^^^^^^^^^^^^^^^^^^^^^^^^^^^^^^^^^^^^^^^^^\\n  File \"/app/.venv/lib/python3.11/site-packages/httpcore/_async/http11.py\", line 177, in _receive_response_headers\\n    event = await self._receive_event(timeout=timeout)\\n            ^^^^^^^^^^^^^^^^^^^^^^^^^^^^^^^^^^^^^^^^^^\\n  File \"/app/.venv/lib/python3.11/site-packages/httpcore/_async/http11.py\", line 217, in _receive_event\\n    data = await self._network_stream.read(\\n           ^^^^^^^^^^^^^^^^^^^^^^^^^^^^^^^^\\n  File \"/app/.venv/lib/python3.11/site-packages/httpcore/_backends/anyio.py\", line 32, in read\\n    with map_exceptions(exc_map):\\n  File \"/usr/local/lib/python3.11/contextlib.py\", line 158, in __exit__\\n    self.gen.throw(typ, value, traceback)\\n  File \"/app/.venv/lib/python3.11/site-packages/httpcore/_exceptions.py\", line 14, in map_exceptions\\n    raise to_exc(exc) from exc\\nhttpcore.ReadTimeout\\n\\nThe above exception was the direct cause of the following exception:\\n\\nTraceback (most recent call last):\\n  File \"/app/src/beeai_agents/agents/addresses_agent.py\", line 40, in key_addresses\\n    data = await fetch_company_data_from_pds(company_name)\\n           ^^^^^^^^^^^^^^^^^^^^^^^^^^^^^^^^^^^^^^^^^^^^^^^\\n  File \"/app/src/beeai_agents/utils/utils.py\", line 77, in fetch_company_data_from_pds\\n    resp = await client.post(url, headers=headers)\\n           ^^^^^^^^^^^^^^^^^^^^^^^^^^^^^^^^^^^^^^^\\n  File \"/app/.venv/lib/python3.11/site-packages/httpx/_client.py\", line 1859, in post\\n    return await self.request(\\n           ^^^^^^^^^^^^^^^^^^^\\n  File \"/app/.venv/lib/python3.11/site-packages/httpx/_client.py\", line 1540, in request\\n    return await self.send(request, auth=auth, follow_redirects=follow_redirects)\\n           ^^^^^^^^^^^^^^^^^^^^^^^^^^^^^^^^^^^^^^^^^^^^^^^^^^^^^^^^^^^^^^^^^^^^^^\\n  File \"/app/.venv/lib/python3.11/site-packages/httpx/_client.py\", line 1629, in send\\n    response = await self._send_handling_auth(\\n               ^^^^^^^^^^^^^^^^^^^^^^^^^^^^^^^\\n  File \"/app/.venv/lib/python3.11/site-packages/httpx/_client.py\", line 1657, in _send_handling_auth\\n    response = await self._send_handling_redirects(\\n               ^^^^^^^^^^^^^^^^^^^^^^^^^^^^^^^^^^^^\\n  File \"/app/.venv/lib/python3.11/site-packages/httpx/_client.py\", line 1694, in _send_handling_redirects\\n    response = await self._send_single_request(request)\\n               ^^^^^^^^^^^^^^^^^^^^^^^^^^^^^^^^^^^^^^^^\\n  File \"/app/.venv/lib/python3.11/site-packages/httpx/_client.py\", line 1730, in _send_single_request\\n    response = await transport.handle_async_request(request)\\n               ^^^^^^^^^^^^^^^^^^^^^^^^^^^^^^^^^^^^^^^^^^^^^\\n  File \"/app/.venv/lib/python3.11/site-packages/httpx/_transports/default.py\", line 393, in handle_async_request\\n    with map_httpcore_exceptions():\\n  File \"/usr/local/lib/python3.11/contextlib.py\", line 158, in __exit__\\n    self.gen.throw(typ, value, traceback)\\n  File \"/app/.venv/lib/python3.11/site-packages/httpx/_transports/default.py\", line 118, in map_httpcore_exceptions\\n    raise mapped_exc(message) from exc\\nhttpx.ReadTimeout\\n\\n```\\n\\nSorry, I couldn’t fetch data for “Google”.\\n\\n**Error:** \\n\\n```traceback\\nTraceback (most recent call last):\\n  File \"/app/.venv/lib/python3.11/site-packages/httpx/_transports/default.py\", line 101, in map_httpcore_exceptions\\n    yield\\n  File \"/app/.venv/lib/python3.11/site-packages/httpx/_transports/default.py\", line 394, in handle_async_request\\n    resp = await self._pool.handle_async_request(req)\\n           ^^^^^^^^^^^^^^^^^^^^^^^^^^^^^^^^^^^^^^^^^^\\n  File \"/app/.venv/lib/python3.11/site-packages/httpcore/_async/connection_pool.py\", line 256, in handle_async_request\\n    raise exc from None\\n  File \"/app/.venv/lib/python3.11/site-packages/httpcore/_async/connection_pool.py\", line 236, in handle_async_request\\n    response = await connection.handle_async_request(\\n               ^^^^^^^^^^^^^^^^^^^^^^^^^^^^^^^^^^^^^^\\n  File \"/app/.venv/lib/python3.11/site-packages/httpcore/_async/connection.py\", line 103, in handle_async_request\\n    return await self._connection.handle_async_request(request)\\n           ^^^^^^^^^^^^^^^^^^^^^^^^^^^^^^^^^^^^^^^^^^^^^^^^^^^^\\n  File \"/app/.venv/lib/python3.11/site-packages/httpcore/_async/http11.py\", line 136, in handle_async_request\\n    raise exc\\n  File \"/app/.venv/lib/python3.11/site-packages/httpcore/_async/http11.py\", line 106, in handle_async_request\\n    ) = await self._receive_response_headers(**kwargs)\\n        ^^^^^^^^^^^^^^^^^^^^^^^^^^^^^^^^^^^^^^^^^^^^^^\\n  File \"/app/.venv/lib/python3.11/site-packages/httpcore/_async/http11.py\", line 177, in _receive_response_headers\\n    event = await self._receive_event(timeout=timeout)\\n            ^^^^^^^^^^^^^^^^^^^^^^^^^^^^^^^^^^^^^^^^^^\\n  File \"/app/.venv/lib/python3.11/site-packages/httpcore/_async/http11.py\", line 217, in _receive_event\\n    data = await self._network_stream.read(\\n           ^^^^^^^^^^^^^^^^^^^^^^^^^^^^^^^^\\n  File \"/app/.venv/lib/python3.11/site-packages/httpcore/_backends/anyio.py\", line 32, in read\\n    with map_exceptions(exc_map):\\n  File \"/usr/local/lib/python3.11/contextlib.py\", line 158, in __exit__\\n    self.gen.throw(typ, value, traceback)\\n  File \"/app/.venv/lib/python3.11/site-packages/httpcore/_exceptions.py\", line 14, in map_exceptions\\n    raise to_exc(exc) from exc\\nhttpcore.ReadError\\n\\nThe above exception was the direct cause of the following exception:\\n\\nTraceback (most recent call last):\\n  File \"/app/src/beeai_agents/agents/key_officers_agent.py\", line 26, in key_officers\\n    data = await fetch_company_data_from_pds(company_name)\\n           ^^^^^^^^^^^^^^^^^^^^^^^^^^^^^^^^^^^^^^^^^^^^^^^\\n  File \"/app/src/beeai_agents/utils/utils.py\", line 77, in fetch_company_data_from_pds\\n    resp = await client.post(url, headers=headers)\\n           ^^^^^^^^^^^^^^^^^^^^^^^^^^^^^^^^^^^^^^^\\n  File \"/app/.venv/lib/python3.11/site-packages/httpx/_client.py\", line 1859, in post\\n    return await self.request(\\n           ^^^^^^^^^^^^^^^^^^^\\n  File \"/app/.venv/lib/python3.11/site-packages/httpx/_client.py\", line 1540, in request\\n    return await self.send(request, auth=auth, follow_redirects=follow_redirects)\\n           ^^^^^^^^^^^^^^^^^^^^^^^^^^^^^^^^^^^^^^^^^^^^^^^^^^^^^^^^^^^^^^^^^^^^^^\\n  File \"/app/.venv/lib/python3.11/site-packages/httpx/_client.py\", line 1629, in send\\n    response = await self._send_handling_auth(\\n               ^^^^^^^^^^^^^^^^^^^^^^^^^^^^^^^\\n  File \"/app/.venv/lib/python3.11/site-packages/httpx/_client.py\", line 1657, in _send_handling_auth\\n    response = await self._send_handling_redirects(\\n               ^^^^^^^^^^^^^^^^^^^^^^^^^^^^^^^^^^^^\\n  File \"/app/.venv/lib/python3.11/site-packages/httpx/_client.py\", line 1694, in _send_handling_redirects\\n    response = await self._send_single_request(request)\\n               ^^^^^^^^^^^^^^^^^^^^^^^^^^^^^^^^^^^^^^^^\\n  File \"/app/.venv/lib/python3.11/site-packages/httpx/_client.py\", line 1730, in _send_single_request\\n    response = await transport.handle_async_request(request)\\n               ^^^^^^^^^^^^^^^^^^^^^^^^^^^^^^^^^^^^^^^^^^^^^\\n  File \"/app/.venv/lib/python3.11/site-packages/httpx/_transports/default.py\", line 393, in handle_async_request\\n    with map_httpcore_exceptions():\\n  File \"/usr/local/lib/python3.11/contextlib.py\", line 158, in __exit__\\n    self.gen.throw(typ, value, traceback)\\n  File \"/app/.venv/lib/python3.11/site-packages/httpx/_transports/default.py\", line 118, in map_httpcore_exceptions\\n    raise mapped_exc(message) from exc\\nhttpx.ReadError\\n\\n```\\n\\n**Key Shareholders**\\n\\nAs of the quarter ending 2024-12-31, the company\\'s key shareholders are represented by 4,589 reporting institutions, collectively holding 3.2 billion shares, equivalent to a market value of $613.8 billion. These shareholders account for 26.16% of the company\\'s total ownership. Notably, 573 new positions were established, while 2,192 existing positions were increased, indicating a significant level of confidence in the company\\'s prospects. Conversely, 1,711 positions were reduced, and 173 were closed, suggesting some degree of profit-taking or rebalancing. The put/call ratio of 0.98 implies a slightly bearish sentiment among institutional investors, as the number of put options (betting on price decline) slightly exceeds call options (betting on price increase). Quarter-on-quarter, the number of new positions and positions increased surpassed the reductions and closures by more than 5%, underscoring the overall bullish stance of these key shareholders.'}\n"
     ]
    }
   ],
   "source": [
    "\n",
    "\n",
    "import requests, certifi\n",
    "\n",
    "URL = \"https://osint-app.1x6htwszi96f.us-south.codeengine.appdomain.cloud/query\"\n",
    "payload = {\"company\": \"Google\"}\n",
    "\n",
    "# Use certifi's latest CA bundle and close the socket after the request\n",
    "headers = {\n",
    "    \"Content-Type\": \"application/json\",\n",
    "    \"Connection\": \"close\"           # <<— crucial for some IBM CE front-ends\n",
    "}\n",
    "\n",
    "resp = requests.post(\n",
    "    URL,\n",
    "    json=payload,\n",
    "    headers=headers,\n",
    "    timeout=30,\n",
    "    verify=certifi.where()           \n",
    ")\n",
    "resp.raise_for_status()\n",
    "print(resp.status_code, resp.json())\n"
   ]
  },
  {
   "cell_type": "code",
   "execution_count": 31,
   "metadata": {},
   "outputs": [
    {
     "name": "stdout",
     "output_type": "stream",
     "text": [
      "200 {'answer': \"**Executive Summary**\\nA deep dive was completed for MICROSOFT to review its relationships and identify foreign linkages. Using several data sources and open-source intelligence, a relationship summary has been compiled for MICROSOFT’s key officers, shareholders, addresses, controversies and financial indicators, with the following key takeaways.\\n\\n**Key Addresses**\\n\\nThe following are three illustrative U.S. addresses: 1 Campus Martius #380, Detroit, MI; 1 Microsoft Way, Redmond, WA, 98052-8300; 1000 Town Ctr #1930, Southfield, MI.\\n\\nBeyond the United States, the company maintains a significant international presence, spanning across multiple continents. In Europe, the company has operations in countries such as Austria (AT), Belgium (BE), Greece (GR), and Italy (IT). In the Asia-Pacific region, it is present in Australia (AU), Brunei (BN), China (CN), Indonesia (ID), Malaysia (MY), and South Korea (KR). In Africa, the company has a footprint in Morocco (MA) and South Africa (ZA). Additionally, it has operations in countries from the Americas like Costa Rica (CR) and Mexico (MX), and in the Middle East, it is present in Saudi Arabia (SA) and Lebanon (LB).\\n\\n**Key Officers**\\n\\n1. Satya Nadella: As the CEO of Microsoft since 2014, Satya Nadella has led the company through a significant transformation, focusing on cloud computing and enterprise services. Prior to his appointment, Nadella served as the Executive Vice President of Microsoft's Cloud and Enterprise group. He joined Microsoft in 1992 and held various leadership roles in the company's server and tools business.\\n\\n2. Sundar Pichai: Although Sundar Pichai is the CEO of Google and Alphabet Inc., he previously served as the Head of Microsoft's Google-competitive products, including Search and Chrome, from 2018 to 2021. Before joining Microsoft, Pichai was a key figure in Google's product development and played a crucial role in the success of Chrome and Google Drive.\\n\\n3. Amy Hood: As the CFO of Microsoft, Amy Hood has been instrumental in driving the company's financial strategy and growth. She joined Microsoft in 2002 and has held various finance leadership roles, including Senior Vice President of Finance and Administration. Hood has been a key contributor to Microsoft's financial success, particularly in the areas of cloud services and enterprise software.\\n\\n4. Brad Smith: As the President and Chief Legal Officer, Brad Smith leads Microsoft's legal and corporate affairs teams. He has been with the company since 1993 and has played a significant role in shaping Microsoft's legal and policy strategies. Smith is also a prominent voice on technology policy issues, representing Microsoft in discussions with governments and regulatory bodies worldwide.\\n\\n5. Kathleen Hogan: As the Executive Vice President and Chief People Officer, Kathleen Hogan oversees Microsoft's human resources, employee experience, and corporate communications. She joined Microsoft in 2015 and has been instrumental in fostering a diverse and inclusive workplace culture. Hogan has also played a key role in Microsoft's response to the COVID-19 pandemic, ensuring the safety and well-being of its employees while maintaining business continuity.\\n\\nPlease note that the information provided is accurate as of the knowledge cutoff date (April 2024). For the most current information, please refer to Microsoft's official website or recent financial reports.\\n\\n**Key Shareholders**\\n\\nAs of the quarter ending 2024-12-31, the company's key shareholders are represented by 5,975 reporting institutions, collectively holding 5.3 billion shares, equivalent to a market value of $2250.5 billion. These shareholders own 71.86% of the company, indicating a significant level of institutional confidence. During the quarter, institutions established 727 new positions and increased their stakes in 3,183 existing positions, while reducing holdings in 2,213 positions and closing 199. The put/call ratio of 1.06 suggests a relatively balanced sentiment among these shareholders, with a slight preference for put options. Notably, the number of positions increased and decreased indicates a dynamic engagement with the company's stock, reflecting ongoing strategic adjustments.\"}\n"
     ]
    }
   ],
   "source": [
    "\n",
    "import requests, certifi\n",
    "\n",
    "URL = \"https://beeai-app.1x6htwszi96f.us-south.codeengine.appdomain.cloud/query\"\n",
    "payload = {\"company\": \"microsoft\"}\n",
    "\n",
    "headers = {\n",
    "    \"Content-Type\": \"application/json\",\n",
    "    \"Connection\": \"close\"           \n",
    "}\n",
    "\n",
    "resp = requests.post(\n",
    "    URL,\n",
    "    json=payload,\n",
    "    headers=headers,\n",
    "    timeout=30,\n",
    "    verify=certifi.where()           \n",
    ")\n",
    "resp.raise_for_status()\n",
    "print(resp.status_code, resp.json())"
   ]
  },
  {
   "cell_type": "code",
   "execution_count": 29,
   "metadata": {},
   "outputs": [
    {
     "name": "stdout",
     "output_type": "stream",
     "text": [
      "Status code: 200\n",
      "Response body: {\"answer\":\"**Executive Summary**\\nA deep dive was completed for MICROSOFT to review its relationships and identify foreign linkages. Using several data sources and open-source intelligence, a relationship summary has been compiled for MICROSOFT’s key officers, shareholders, addresses, controversies and financial indicators, with the following key takeaways.\\n\\n**Key Addresses**\\n\\nThe following are three illustrative U.S. addresses: 1 Campus Martius #380, Detroit, MI; 1 Microsoft Way, Redmond, WA, 98052-8300; 1000 Town Ctr #1930, Southfield, MI.\\n\\nBeyond the United States, the company maintains a significant international presence, spanning across multiple continents. In Europe, the company has operations in countries such as Austria (AT), Belgium (BE), Greece (GR), and Italy (IT). In the Asia-Pacific region, it is present in Australia (AU), Brunei (BN), China (CN), Indonesia (ID), Malaysia (MY), and South Korea (KR). In Africa, the company has a footprint in Morocco (MA) and South Africa (ZA). Additionally, it has operations in countries from the Americas like Costa Rica (CR) and Mexico (MX), and in the Middle East, it is present in Saudi Arabia (SA) and Lebanon (LB).\\n\\n**Key Officers**\\n\\n1. Satya Nadella: As the CEO of Microsoft since 2014, Satya Nadella has led the company through a significant transformation, focusing on cloud computing and enterprise services. Prior to his appointment, Nadella served as the Executive Vice President of Microsoft's Cloud and Enterprise group. He joined Microsoft in 1992 and held various leadership roles in the company's server and tools business.\\n\\n2. Sundar Pichai: Although Sundar Pichai is the CEO of Google and Alphabet Inc., he previously served as the Head of Microsoft's Google-competitive products, including Search and Chrome, from 2018 to 2021. Before joining Microsoft, Pichai was a key figure in Google's product development and management.\\n\\n3. Amy Hood: As the CFO of Microsoft, Amy Hood has been instrumental in driving the company's financial strategy and growth. She joined Microsoft in 2002 and has held various financial leadership roles, including Senior Vice President of Finance and Administration.\\n\\n4. Brad Smith: As the President and Chief Legal Officer, Brad Smith plays a crucial role in shaping Microsoft's legal and corporate affairs strategy. He has been with the company since 2002 and has been instrumental in managing legal and corporate affairs, government affairs, and corporate social responsibility.\\n\\n5. Kathleen Hogan: As the Executive Vice President and Chief People Officer, Kathleen Hogan leads Microsoft's human resources and corporate communications. She joined Microsoft in 2015 and has been instrumental in driving the company's culture and talent management strategies.\\n\\nPlease note that the information provided is accurate as of the knowledge cutoff date (April 2024). For the most current information, please refer to Microsoft's official website or recent financial reports.\\n\\n**Key Shareholders**\\n\\nAs of the quarter ending 2024-12-31, the company's key shareholders are represented by 5,975 reporting institutions, collectively holding 5.3 billion shares, equivalent to a market value of $2250.5 billion. These shareholders own 71.86% of the company, indicating a significant level of institutional confidence. During the quarter, institutions established 727 new positions and increased their stakes in 3,183 existing positions, while reducing holdings in 2,213 positions and closing 199. The put/call ratio of 1.06 suggests a relatively balanced sentiment among these shareholders, with a slight preference for put options. Notably, the number of positions increased and decreased indicates a dynamic engagement with the company's stock, reflecting ongoing strategic adjustments.\"}\n"
     ]
    }
   ],
   "source": [
    "import httpx\n",
    "\n",
    "url = \"https://beeai-app.1x6htwszi96f.us-south.codeengine.appdomain.cloud/query\"\n",
    "payload = {\"company\": \"microsoft\"}\n",
    "headers = {\n",
    "    \"Content-Type\": \"application/json\",\n",
    "    \"Connection\": \"close\",\n",
    "}\n",
    "\n",
    "# Synchronous version\n",
    "with httpx.Client() as client:\n",
    "    response = client.post(url, headers=headers, json=payload, timeout=30)\n",
    "    print(\"Status code:\", response.status_code)\n",
    "    print(\"Response body:\", response.text)\n"
   ]
  },
  {
   "cell_type": "code",
   "execution_count": 30,
   "metadata": {},
   "outputs": [
    {
     "name": "stderr",
     "output_type": "stream",
     "text": [
      "/opt/anaconda3/envs/env3.11/lib/python3.11/site-packages/urllib3/connectionpool.py:1097: InsecureRequestWarning: Unverified HTTPS request is being made to host 'beeai-app.1x6htwszi96f.us-south.codeengine.appdomain.cloud'. Adding certificate verification is strongly advised. See: https://urllib3.readthedocs.io/en/latest/advanced-usage.html#tls-warnings\n",
      "  warnings.warn(\n"
     ]
    },
    {
     "name": "stdout",
     "output_type": "stream",
     "text": [
      "Status code: 200\n",
      "Response body: {\"answer\":\"**Executive Summary**\\nA deep dive was completed for MICROSOFT to review its relationships and identify foreign linkages. Using several data sources and open-source intelligence, a relationship summary has been compiled for MICROSOFT’s key officers, shareholders, addresses, controversies and financial indicators, with the following key takeaways.\\n\\n**Key Addresses**\\n\\nThe following are three illustrative U.S. addresses: 1 Campus Martius #380, Detroit, MI; 1 Microsoft Way, Redmond, WA, 98052-8300; 1000 Town Ctr #1930, Southfield, MI.\\n\\nBeyond the United States, the company maintains a significant international presence, spanning across multiple continents. In Europe, the company has operations in countries such as Austria (AT), Belgium (BE), Greece (GR), and Italy (IT). In the Asia-Pacific region, it is present in Australia (AU), Brunei (BN), China (CN), Indonesia (ID), Malaysia (MY), and South Korea (KR). In Africa, the company has a footprint in Morocco (MA) and South Africa (ZA). Additionally, it has operations in countries from the Americas like Costa Rica (CR) and Mexico (MX), and in the Middle East, it is present in Saudi Arabia (SA) and Lebanon (LB).\\n\\n**Key Officers**\\n\\n1. Satya Nadella: As the CEO of Microsoft since 2014, Satya Nadella has led the company through a significant transformation, focusing on cloud computing and enterprise services. Prior to his appointment, Nadella served as the Executive Vice President of Microsoft's Cloud and Enterprise group. He joined Microsoft in 1992 and held various leadership roles in the company's server and tools business.\\n\\n2. Sundar Pichai: Although Sundar Pichai is the CEO of Google and Alphabet Inc., he previously served as the Head of Microsoft's Google-competitive products, including Search and Chrome, from 2018 to 2021. Before joining Microsoft, Pichai was a key figure in Google's product development and played a crucial role in the success of Chrome and Google Drive.\\n\\n3. Amy Hood: As the CFO of Microsoft, Amy Hood has been instrumental in driving the company's financial strategy and growth. She joined Microsoft in 2002 and has held various finance leadership roles, including Senior Vice President of Finance and Administration. Hood has been a key contributor to Microsoft's financial success, particularly in the areas of cloud services and enterprise software.\\n\\n4. Brad Smith: As the President and Chief Legal Officer, Brad Smith leads Microsoft's legal and corporate affairs teams. He has been with the company since 1993 and has played a significant role in shaping Microsoft's legal and policy strategies. Smith is also a prominent voice on technology policy issues, representing Microsoft in discussions with governments and regulatory bodies worldwide.\\n\\n5. Kathleen Hogan: As the Executive Vice President and Chief People Officer, Kathleen Hogan oversees Microsoft's human resources, employee experience, and corporate communications. She joined Microsoft in 2015 and has been instrumental in fostering a diverse and inclusive workplace culture. Hogan has also played a key role in Microsoft's response to the COVID-19 pandemic, ensuring the safety and well-being of its employees while maintaining business continuity.\\n\\nPlease note that the information provided is accurate as of the knowledge cutoff date (April 2024). For the most current information, please refer to Microsoft's official website or recent financial reports.\\n\\n**Key Shareholders**\\n\\nAs of the quarter ending 2024-12-31, the company's key shareholders are represented by 5,975 reporting institutions, collectively holding 5.3 billion shares, equivalent to a market value of $2250.5 billion. These shareholders own 71.86% of the company, indicating a significant level of institutional confidence. During the quarter, institutions established 727 new positions and increased their stakes in 3,183 existing positions, while reducing holdings in 2,213 positions and closing 199. The put/call ratio of 1.06 suggests a relatively balanced sentiment among these shareholders, with a slight preference for put options. Notably, the number of positions increased and decreased indicates a dynamic engagement with the company's stock, reflecting ongoing strategic adjustments.\"}\n"
     ]
    }
   ],
   "source": [
    "import requests\n",
    "\n",
    "url = \"https://beeai-app.1x6htwszi96f.us-south.codeengine.appdomain.cloud/query\"\n",
    "payload = {\"company\": \"microsoft\"}\n",
    "headers = {\"Content-Type\": \"application/json\"}\n",
    "\n",
    "try:\n",
    "    response = requests.post(url, json=payload, headers=headers, timeout=30, verify=False)\n",
    "    print(\"Status code:\", response.status_code)\n",
    "    print(\"Response body:\", response.text)\n",
    "except Exception as e:\n",
    "    print(\"Exception occurred:\", e)\n"
   ]
  },
  {
   "cell_type": "code",
   "execution_count": 4,
   "metadata": {},
   "outputs": [
    {
     "name": "stdout",
     "output_type": "stream",
     "text": [
      "{'detail': 'Not Found'}\n"
     ]
    }
   ],
   "source": [
    "import requests\n",
    "\n",
    "payload = {\"company\": \"google\"}\n",
    "resp = requests.post(\"https://application-e0.1x6htwszi96f.us-south.codeengine.appdomain.cloud:query\", json=payload)\n",
    "print(resp.json())\n"
   ]
  },
  {
   "cell_type": "code",
   "execution_count": null,
   "metadata": {},
   "outputs": [],
   "source": []
  }
 ],
 "metadata": {
  "kernelspec": {
   "display_name": "env3.11",
   "language": "python",
   "name": "python3"
  },
  "language_info": {
   "codemirror_mode": {
    "name": "ipython",
    "version": 3
   },
   "file_extension": ".py",
   "mimetype": "text/x-python",
   "name": "python",
   "nbconvert_exporter": "python",
   "pygments_lexer": "ipython3",
   "version": "3.11.9"
  }
 },
 "nbformat": 4,
 "nbformat_minor": 2
}
