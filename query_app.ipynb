{
 "cells": [
  {
   "cell_type": "code",
   "execution_count": null,
   "metadata": {},
   "outputs": [],
   "source": []
  },
  {
   "cell_type": "code",
   "execution_count": null,
   "metadata": {},
   "outputs": [],
   "source": [
    "import requests\n",
    "\n",
    "payload = {\"company\": \"google\"}\n",
    "resp = requests.post(\"http://localhost:8080/query\", json=payload)\n",
    "print(resp.json())\n"
   ]
  },
  {
   "cell_type": "code",
   "execution_count": 2,
   "metadata": {},
   "outputs": [
    {
     "name": "stdout",
     "output_type": "stream",
     "text": [
      "Request failed: HTTPSConnectionPool(host='application-e0.1x6htwszi96f.us-south.codeengine.appdomain.cloud', port=443): Read timed out. (read timeout=30)\n"
     ]
    }
   ],
   "source": [
    "import requests, certifi\n",
    "\n",
    "URL = \"https://application-e0.1x6htwszi96f.us-south.codeengine.appdomain.cloud/query\"\n",
    "payload = {\"company\": \"Google\"}\n",
    "\n",
    "# Use certifi's latest CA bundle and close the socket after the request\n",
    "headers = {\n",
    "    \"Content-Type\": \"application/json\",\n",
    "    \"Connection\": \"close\"           # <<— crucial for some IBM CE front-ends\n",
    "}\n",
    "\n",
    "resp = requests.post(\n",
    "    URL,\n",
    "    json=payload,\n",
    "    headers=headers,\n",
    "    timeout=30,\n",
    "    verify=certifi.where()           # ↳ in case your system store is old\n",
    ")\n",
    "resp.raise_for_status()\n",
    "print(resp.status_code, resp.json())\n"
   ]
  },
  {
   "cell_type": "code",
   "execution_count": 4,
   "metadata": {},
   "outputs": [
    {
     "name": "stdout",
     "output_type": "stream",
     "text": [
      "{'detail': 'Not Found'}\n"
     ]
    }
   ],
   "source": [
    "import requests\n",
    "\n",
    "payload = {\"company\": \"google\"}\n",
    "resp = requests.post(\"https://application-e0.1x6htwszi96f.us-south.codeengine.appdomain.cloud:query\", json=payload)\n",
    "print(resp.json())\n"
   ]
  },
  {
   "cell_type": "code",
   "execution_count": null,
   "metadata": {},
   "outputs": [],
   "source": []
  }
 ],
 "metadata": {
  "kernelspec": {
   "display_name": "env3.11",
   "language": "python",
   "name": "python3"
  },
  "language_info": {
   "codemirror_mode": {
    "name": "ipython",
    "version": 3
   },
   "file_extension": ".py",
   "mimetype": "text/x-python",
   "name": "python",
   "nbconvert_exporter": "python",
   "pygments_lexer": "ipython3",
   "version": "3.11.9"
  }
 },
 "nbformat": 4,
 "nbformat_minor": 2
}
