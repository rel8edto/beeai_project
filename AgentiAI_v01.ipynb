{
 "cells": [
  {
   "cell_type": "code",
   "execution_count": null,
   "metadata": {},
   "outputs": [],
   "source": [
    "import asyncio\n",
    "from beeai_framework.backend.chat import ChatModel\n",
    "from beeai_framework.tools.search.wikipedia import WikipediaTool\n",
    "from beeai_framework.tools.weather.openmeteo import OpenMeteoTool\n",
    "from beeai_framework.workflows.agent import AgentWorkflow, AgentWorkflowInput\n",
    "\n",
    "async def main() -> None:\n",
    "    llm = ChatModel.from_name(\"ollama:granite3.3\")\n",
    "    workflow = AgentWorkflow(name=\"Smart assistant\")\n",
    "\n",
    "    workflow.add_agent(\n",
    "        name=\"Researcher\",\n",
    "        role=\"A diligent researcher.\",\n",
    "        instructions=\"You look up and provide information about a specific topic.\",\n",
    "        tools=[WikipediaTool()],\n",
    "        llm=llm,\n",
    "    )\n",
    "\n",
    "    workflow.add_agent(\n",
    "        name=\"WeatherForecaster\",\n",
    "        role=\"A weather reporter.\",\n",
    "        instructions=\"You provide detailed weather reports.\",\n",
    "        tools=[OpenMeteoTool()],\n",
    "        llm=llm,\n",
    "    )\n",
    "\n",
    "    workflow.add_agent(\n",
    "        name=\"DataSynthesizer\",\n",
    "        role=\"A meticulous and creative data synthesizer\",\n",
    "        instructions=\"You can combine disparate information into a final coherent summary.\",\n",
    "        llm=llm,\n",
    "    )\n",
    "\n",
    "    location = \"Saint-Tropez\"\n",
    "\n",
    "    response = await workflow.run(\n",
    "        inputs=[\n",
    "            AgentWorkflowInput(\n",
    "                prompt=f\"Provide a short history of {location}.\",\n",
    "            ),\n",
    "            AgentWorkflowInput(\n",
    "                prompt=f\"Provide a comprehensive weather summary for {location} today.\",\n",
    "                expected_output=\"Essential weather details such as chance of rain, temperature and wind. Only report information that is available.\",\n",
    "            ),\n",
    "            AgentWorkflowInput(\n",
    "                prompt=f\"Summarize the historical and weather data for {location}.\",\n",
    "                expected_output=f\"A paragraph that describes the history of {location}, followed by the current weather conditions.\",\n",
    "            ),\n",
    "        ]\n",
    "    ).on(\n",
    "        \"success\",\n",
    "        lambda data, event: print(\n",
    "            f\"\\n-> Step '{data.step}' has been completed with the following outcome.\\n\\n{data.state.final_answer}\"\n",
    "        ),\n",
    "    )\n",
    "\n",
    "    print(\"==== Final Answer ====\")\n",
    "    print(response.result.final_answer)\n",
    "\n",
    "\n",
    "if __name__ == \"__main__\":\n",
    "    asyncio.run(main())"
   ]
  },
  {
   "cell_type": "code",
   "execution_count": null,
   "metadata": {},
   "outputs": [],
   "source": []
  },
  {
   "cell_type": "code",
   "execution_count": null,
   "metadata": {},
   "outputs": [],
   "source": []
  },
  {
   "cell_type": "code",
   "execution_count": null,
   "metadata": {},
   "outputs": [],
   "source": []
  }
 ],
 "metadata": {
  "kernelspec": {
   "display_name": "env3.11",
   "language": "python",
   "name": "python3"
  },
  "language_info": {
   "name": "python",
   "version": "3.11.9"
  }
 },
 "nbformat": 4,
 "nbformat_minor": 2
}
